{
 "cells": [
  {
   "cell_type": "markdown",
   "metadata": {
    "id": "qLkPCyZUb1g2"
   },
   "source": [
    "# 1. Fasea: Problema formalizatzen"
   ]
  },
  {
   "cell_type": "markdown",
   "metadata": {
    "id": "6EhBXC3Nb1g4"
   },
   "source": [
    "#### [Ikasle]\n",
    "\n",
    "Community Detection proiektuaren 1. fasean problema formalizatuko dugu. Dagoeneko klasean ikusi dugu, optimizazio problema bat formalizatzeak zer dakarren. Gogoratze aldera:\n",
    "<ul>\n",
    "  <li> soluzio bideragarrien espazioa definitzea,\n",
    "  <li> soluzioak errepresentatzeko modu egoki bat asmatzea eta\n",
    "  <li> helburu-funtzioa definitzea.\n",
    "</ul>\n",
    "\n",
    "\n",
    "#### Entregablea\n",
    "\n",
    "Lehenengo fasea ebaluatu ahal izateko, notebook hau bera igo beharko duzue eGelara eskatzen diren atazak egoki erantzunda. eGelan zehazten dira <b>egun eta orduan</b>. Garaiz ez entregatzeak, 0 bat suposatuko du ebaluagarria den proiektuaren zati horretan. Adi! Ez dute balio aitzakiek, denbora soberan duzue aurretiaz egiteko, eGelara igotzeko eta aseguratzeko entregatuta geratu dela. <b>Ez dut onartuko atzerapenik</b>.\n"
   ]
  },
  {
   "cell_type": "markdown",
   "metadata": {
    "id": "jXTHWjfgb1g7"
   },
   "source": [
    "### Soluzio bideragarrien espazioa\n",
    "\n",
    "Proiektuan, aipatu dugun bezela, elkarlan komunitate desberdinak detektatu nahi ditugu. Horretarako, lehenenik eta behin erantzun beharreko galdera hurrengoa da: <i> Zer da komunitate bat?</i> Sarreran sortu dugun grafoan pentsatuz gero, <i> Nola adieraziko genituzte komunitateak grafoan?</i>\n",
    "Optimizazio konbinatorioko bibliografia begiratzea proposatzen dizuet (Google Scholar, Scopus, Web of Science...). Problema honek, berria ematen duen arren, hamarkada asko atzera aztertu zen lehenengo aldiz.\n",
    "\n",
    "Jarrian dagoen eremuan, 400 hitzetan, azaldu zer den Community Detection problema, eta eman aurreko galderei erantzuna. Behar izanez gero, gehitu irudiak. Garrantzitsua, erabilitako erreferentzia bibliografikoak testuan zuzenean adierazi beharko dituzue."
   ]
  },
  {
   "cell_type": "code",
   "execution_count": null,
   "metadata": {
    "id": "poh1D_7-b1g9"
   },
   "outputs": [],
   "source": [
    "## 400 hitzetako azalpena."
   ]
  },
  {
   "cell_type": "markdown",
   "metadata": {
    "id": "7blqjXNr1ZVX"
   },
   "source": [
    "Literaturan bilatzean [[1]](https://www.sciencedirect.com/science/article/abs/pii/S0370157309002841#sec3), aurkitu dugu ez dagoela unibertsalki onartuta dagoen komunitateen definiziorik, baina badaude gidalerro bezalako batzuk: komunitateko nodoen artean ertz gehiago egon behar dira, komunitateko nodoak komunitatean ez dauden beste nodo batzuekin lotzen dituzten ertzak baino. Guk gidalerro hauetan oinarrituko gara gure definizioa emateko.\n",
    "\n",
    "Komunitate bat gai antzekoari buruz elkarlanean aritu diren autoreek osatzen duten grafoko azpimultzo bat da. Komunitate bat gutxienez 2 autorek osatuko dute. Komunitate baten barruan dauden autoreek haien artean lan asko egin izan behar dituzte eta beraz, haien artean lotura asko eta pisutsuak (hau da, bi autoreren artean egindako lan kopuru altua) egongo dira eta beste komunitateetako autoreekin konexioak egon daitezkeen arren, hauek gutxiago eta pisu gutxiagokoak izango dira.\n",
    "\n",
    "Gehienez K komunitate egongo dira. Gure probleman milaka autore daude eta horien artetik beste autoreekin loturarik ez duten autoreak egon daitezke edo lotura oso gutxi dituztenak (bikoteak, hirukoteak, etab.). Arazoa dago autore-multzo oso txiki hauek non sailkatu, zein komunitateko parte diren erabakitzea. Guk autore multzo hauek aparteko komunitate batean sartuko ditugu, beste komunitateetan sartzen baditugu ez dugulako jakingo benetan komunitate horretan dauden beste autoreekin asko lan egin duten edo beste autore oso gutxirekin lan egin duten pertsonak diren. \n",
    "\n",
    "Komunitateen barruan normalean azpikomunitateak daude, hau da, haien artean besteekin baino harreman gehiago dituzten azpi-multzoak, eta izan daiteke azpikomunitate hoien barruan azpikomunitate gehiago egotea, adibidez, giza gorputzean komunitate bat organoak izango lirateke, organoen barruan ehunak izango lirateke komunitateak, ehunen barruan zelulak etab. Beraz, sortuko ditugun komunitateak ez dira zertan tamaina berdin-berdinekoak izan, baina bai tamaina antzekoak, maila berdineko komunitateak sailkatu nahi baititugu.\n",
    "\n",
    "Hori dela eta, komunitateak grafoko azpigrafo konektatu handienetan bilatuko ditugu. Dena den, azpigrafo hoietatik kanpo dauden beste azpigrafo konektatu txikiagoak baldin badaude azpigrafo konektatu handienetan sortuko ditugun komunitateen tamainakoak, azpigrafo konektatu txiki horiek ere komunitate bezala sailkatuko ditugu. Horrela, bat izan ezik, (konexio gutxi dituzten autoreen komunitatea) komunitate denak tamaina antzekoak izango dira eta ahalik eta komunitate gehiago hartuko ditugu kontuan, ez bakarrik azpigrafo konektatu handienetan daudenak."
   ]
  },
  {
   "cell_type": "markdown",
   "metadata": {
    "id": "PgErpvdpXW_Y"
   },
   "source": [
    "###Azalpena\n"
   ]
  },
  {
   "cell_type": "markdown",
   "metadata": {
    "id": "bdNmt2FZb1g9"
   },
   "source": [
    "### Soluzioen errepresentazioa\n",
    "\n",
    "Behin aurreko galderak erantzun ditugula, eta badakigula nola adierazi komunitate bat, soluzioak errepresentatzeko kodeketa bat aukeratu behar dugu. Klasean hainbat kodeketa ikusi ditugu, horietako bat aproposa izan daiteke komunitateak identifikatzeko. Jarraian, proposatu soluzio batzuk esku artean dugun problemarentzako. <i>Nola kodetuko dugu komunitateen identifikazio bat?</i> Pentsatu..."
   ]
  },
  {
   "cell_type": "code",
   "execution_count": null,
   "metadata": {
    "collapsed": true,
    "id": "uIWDZtR7b1g-"
   },
   "outputs": [],
   "source": [
    "### Eman soluzioen adibide batzuk\n",
    "## Hiru komunitate izanda eta 10 autore, hauek soluzioak izan ahalko lirateke\n",
    "# Indizea autore errepresentatzen du eta zenbakia dagoen komunitatea\n",
    "soluzioa_1=[0,0,0,0,1,1,1,2,2,2]\n",
    "soluzioa_2=[0,1,2,0,1,2,0,1,2,0]"
   ]
  },
  {
   "cell_type": "markdown",
   "metadata": {
    "id": "DsyDx62jb1g_"
   },
   "source": [
    "### Helburu-funtzioa\n",
    "\n",
    "Dagoeneko badakigu zer den komunitate bat, eta nola adierazi ere. Esan dugu, elkarlanen bitartez identifikatuko ditugula komunitateak. Baina, zerk eragiten du autore bat komunitate baten parte izateak? Adibidez, nahiko al da behin artikulu bat idaztea beste autore batzuekin, komunitatearen parte izateko? Erantzuna, argi dago, ezezkoa dela.\n",
    "\n",
    "Jarraian dagoen erreferentzian oinarrituko gara, helburu-funtzio egoki bat aukeratzeko. Zein aukeratuko zenuke? Pentsatu ondo! Badago bat oso egokia!\n",
    "\n",
    "   <i> Clauset, A.; Newman, M. E. J. \\& Moore, C. Finding community structure in very large networks, Physical Review E 2004, 70, 066111</i>\n",
    "   \n",
    "Jarraian eman 200 hitzetako azalpen bat aukeratu duzun helburu-funtzioaren inguruan. Horrez gain, adierazi ekuazio matematiko bidez, helburu-funtzioa (LaTeX notazioa onartzen du konpiladoreak). Ondoren, inplementatu helburu-funtzioa ere (funtzioaren egitura orokorra planteatzen dizuet). Azkenik helburu-funtzioaren pseudokode orokor bat ere idatzi beharko duzu."
   ]
  },
  {
   "cell_type": "code",
   "execution_count": null,
   "metadata": {
    "collapsed": true,
    "id": "3-JVJUVXb1g_"
   },
   "outputs": [],
   "source": [
    "# Idatzi hemen, 200 hitzetako azalpena, ekuazioa eta pseudokodea."
   ]
  },
  {
   "cell_type": "markdown",
   "metadata": {
    "id": "7EqHYyqkD0A0"
   },
   "source": [
    "Erabiliko dugun helburu-funtzioa Clauset, Newman eta Moore-k proposatutako modularitatearen oso antzekoa izango da. Gure grafoko ertzek pisuak dituztenez, apur bat moldatu beharko dugu. Haiek proposatutako helburu-funtzioa hurrengoa da: $\\sum\\limits_{i} ( e_{ii} - a_i^2)$, non $e_{ij}$ i komunitateko nodoak j komunitateko nodoekin konektatzen dituzten ertzen frakzioa den eta $a_i$ i komunitateko nodoetara konektatuta dauden ertz-muturren frakzioa den.\n",
    "\n",
    "Guk erabiliko duguna berdina da; $\\sum\\limits_{i} ( e_{ii} - a_i^2)$, baina $e_{ij}$ i komunitateko nodoak j komunitateko nodoekin konektatzen dituzten ertzen **pisuen** frakzioa izango da eta $a_i$ i komunitateko nodoetara konektatuta dauden ertz-muturren **pisuen** frakzioa den. Helburu-funtzio hau maximizatuko dugu.\n",
    "\n",
    "Helburu-funtzioan $e_{ii}$-k i komunitateak barnean dituen ertzen pisuen frakzioa (barruko ertzen pisuen gehiketa / grafoko ertz guztien pisuen gehiketa) errepresentatzen du eta $a_i$-k i komunitateak barneko eta kanpoko nodoekin dituen ertzen muturren pisuen frakzioa. Hau honela izanda, i-ko nodoen arteko ertzen muturrak birritan kontatuko dira (bat nodo bakoitzeko). $a_i$-ren balioa (frakzioa) beti 0 eta 1 artean egongo denez, berretzean ia beti balio hori txikituko da. Hau beharrezkoa da, $e_{ii}$ beti delako $a_i^2$ baino txikiagoa edo berdina, definizioagaitik. Horrela, komunitateek barnean ertz asko dituztenean eta kanpoan gutxi, balio altuenak emango ditu helburu-funtzio honek.\n"
   ]
  },
  {
   "cell_type": "code",
   "execution_count": null,
   "metadata": {
    "colab": {
     "base_uri": "https://localhost:8080/"
    },
    "id": "6xK1VzfGxt__",
    "outputId": "1fb9e1f8-e4ea-4a47-b928-7a51d76e8435"
   },
   "outputs": [],
   "source": [
    "# SQL\n",
    "import sqlite3\n",
    "\n",
    "# Pandas\n",
    "import pandas as pd\n",
    "\n",
    "# Graph\n",
    "import community\n",
    "import networkx as nx\n",
    "\n",
    "# Plot\n",
    "import matplotlib.pyplot as plt\n",
    "import seaborn as sns\n",
    "\n",
    "# Combinations\n",
    "import itertools\n",
    "\n",
    "from google.colab import drive\n",
    "drive.mount('/content/drive')\n",
    "\n",
    "def sortu_grafoa():\n",
    "\n",
    "    # Datuak irakurri\n",
    "    # BETE HEMEN 8 lerro\n",
    "    connect = sqlite3.connect('/content/drive/MyDrive/BH/database.sqlite')\n",
    "    query = \"\"\"\n",
    "    SELECT pa.paper_id, pa.author_id, a.name\n",
    "    FROM paper_authors AS pa JOIN papers AS p ON pa.paper_id = p.id\n",
    "    JOIN authors as a ON pa.author_id = a.id\n",
    "    WHERE p.Year BETWEEN '2014' AND '2015'\n",
    "    \"\"\"\n",
    "    df = pd.read_sql(query, connect)\n",
    "    \n",
    "    # Sortu grafoa\n",
    "    # BETE HEMEN 7-10 lerro\n",
    "    G = nx.Graph()\n",
    "\n",
    "    #Guztira dagoen pisu kopurua eskuratuko du funtzio honek, ondorengo funtzioei lana errazteko.\n",
    "    pisuakGuztira = 0\n",
    "    #Grafoko nodoen izenak string-ak ziren, soluzioak idazteko kodeketan int-ak erabiliko ditugu. Beraz, autoreen izenak diren string bakoitzari zenbaki bat esleitu eta kodeak-en gordeko dugu zenbaki\n",
    "    #bakoitza zein string-i dagokion. Hau da, grafoko nodoen string motako izenak int bihurtu. \n",
    "    kodeak = { }\n",
    "    kont= 0\n",
    "    # Transform\n",
    "    # Autorearen IDa erabili beharrean erabili izena.\n",
    "    for p, a in df.groupby('paper_id')['name']:\n",
    "      for u, v in itertools.combinations(a, 2):\n",
    "        if u in kodeak and v in kodeak and G.has_edge(kodeak[u], kodeak[v]):\n",
    "            G[kodeak[u]][kodeak[v]]['weight'] +=1\n",
    "        else:\n",
    "          if u not in kodeak:\n",
    "            kodeak[u]=kont\n",
    "            kont+=1\n",
    "          if v not in kodeak:\n",
    "            kodeak[v]=kont\n",
    "            kont+=1 \n",
    "          G.add_edge(kodeak[u], kodeak[v], weight=1)\n",
    "          pisuakGuztira+=1\n",
    "    return G, kodeak, pisuakGuztira\n",
    "\n",
    "G, kodeak, pisuakGuztira = sortu_grafoa()\n",
    "print(G.nodes)\n",
    "print(kodeak)"
   ]
  },
  {
   "cell_type": "markdown",
   "metadata": {
    "id": "RJVPO--nxIPC"
   },
   "source": [
    "Pseudokodea honakoa da:\n",
    "\n",
    "* Hasieratu modularitate zerrenda, partizio bakoitzaren modularitateak dituena.\n",
    "* Partizio bakoitzerako EGIN:\n",
    "  * Topatu partizio horren barne pisuak\n",
    "  * Topatu partizio horren kanpo pisuak\n",
    "  * Kalkulatu modularitatea\n",
    "* BUKATU EGIN\n",
    "* Kalkulatu modularitate guztien batura"
   ]
  },
  {
   "cell_type": "code",
   "execution_count": null,
   "metadata": {
    "colab": {
     "base_uri": "https://localhost:8080/"
    },
    "id": "NvW3QTL74Gli",
    "outputId": "8bf84c9e-f3ed-4555-dcb2-1dedad852454"
   },
   "outputs": [],
   "source": [
    "# pip install ipynb exekutatu liburutegi hau erabili ahal izateko.\n",
    "from itertools import product\n",
    "import community\n",
    "import networkx as nx\n",
    "import numpy as np\n",
    "import random\n",
    "\n",
    "#Partizio baten kanpo eta barne pisuak kalkulatzen ditu\n",
    "def parPisuak (G,soluzioa,k,weight = 'weight'):\n",
    "  kideak = np.where(soluzioa == k)[0] #K partizioko kideak lortu\n",
    "  bpisuak = 0\n",
    "  kpisuak = 0\n",
    "  for i in range(len(kideak)): #Kide bakoitzerako\n",
    "    ertzak = G.edges(kideak[i]) #Bere mugakideak eskuratu\n",
    "    for j in ertzak:\n",
    "      if (j[1] in kideak): #Mugakidea uneko partizioko kidea bada\n",
    "        bpisuak+=G[kideak[i]][j[1]][weight] #Barne pisuetara\n",
    "      else: #Ez bada\n",
    "        kpisuak+=G[kideak[i]][j[1]][weight] #Kanpo pisuetara\n",
    "  return(bpisuak/2,kpisuak) #Barne pisuak zati bi egin behar dira, nodo batetik bestera iritsi bada, alderantziz ere egin delako. Kanpo pisuen kasuan ez, kanpoko nodotik barrukorako ertza ez delako aztertu.  \n",
    "\n",
    "def modularitatea(G, soluzioa, pisuakGuztira):\n",
    "  partizioKop=max(soluzioa)+1\n",
    "  modularitateak = [ ]\n",
    "  for i in range(1,partizioKop):\n",
    "    bpisuak, kpisuak = parPisuak(G,soluzioa,i)\n",
    "    modularitateak.append(bpisuak/pisuakGuztira - ((kpisuak + 2*bpisuak)/(2*pisuakGuztira))**2)\n",
    "  return sum(modularitateak)\n",
    "\n",
    "#Probak\n",
    "soluzioa1 = np.random.randint(0,5,len(G.nodes))\n",
    "print(modularitatea(G,soluzioa1,pisuakGuztira))"
   ]
  }
 ],
 "metadata": {
  "colab": {
   "provenance": []
  },
  "kernelspec": {
   "display_name": "Python 3 (ipykernel)",
   "language": "python",
   "name": "python3"
  },
  "language_info": {
   "codemirror_mode": {
    "name": "ipython",
    "version": 3
   },
   "file_extension": ".py",
   "mimetype": "text/x-python",
   "name": "python",
   "nbconvert_exporter": "python",
   "pygments_lexer": "ipython3",
   "version": "3.10.6"
  }
 },
 "nbformat": 4,
 "nbformat_minor": 1
}
