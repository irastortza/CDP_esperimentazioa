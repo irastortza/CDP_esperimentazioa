{
 "cells": [
  {
   "cell_type": "markdown",
   "metadata": {
    "id": "qsC9UegOjZ6_"
   },
   "source": [
    "## 2. Fasea: Algoritmoak diseinatzen"
   ]
  },
  {
   "cell_type": "markdown",
   "metadata": {
    "id": "B74qfL9QjZ7B"
   },
   "source": [
    "#### [Ikasle]\n",
    "\n",
    "Community Detection proiektuaren 1. fasea entregatu duzue, eta feedback-a jaso ere. Klasean hainbat algoritmo ikusi ditugu, batzuk soluzio bakarrean oinarritutakoak, beste batzuk aldiz, populazio bat erabiltzen dutenak. Horiez gain, hibridatzeko teknikak ere ikusi ditugu. Bigarrengo fase honetan, hiru algoritmo diseinatu beharko dituzue. Lehenengoa, algoritmo eraikitzaile bat izango da. Bigarrena, soluzio bakarrean oinarritutako heuristiko bat izan beharko du, eta azkenik, hirugarrena algoritmo poblazional bat izango da. Hiru algoritmoak estokastikoak izan beharko dute, eta horietatik, bik, oinarri probabilistikoa izan beharko dute. Adibidez, Simulated Annealing, Estimation of Distribution Algorithms (EDAk) edota Ant Colony Optimization (ACO) implementatu ditzazkezue. Proiektu honen kasuan, algoritmoen helburua, komunitate kopuru jakin bat emanik, modularitatea maximizatzen duen komunitate banaketa (soluzioa) bilatzen saiatzea da.\n",
    "\n",
    "Errepasatu gaitegian zehar ikusi ditugun algoritmo guztiak, eta horiek kontuak izanik, libre zarete nahi dituzuen diseinuak sortzeko, baita ere hibridoak! Adi! Egiten duzuen aukeraketa argudiatu egin beharko duzue.\n",
    "\n",
    "#### Entregablea\n",
    "\n",
    "Bigarrengo fasea ebaluatu ahal izateko, notebook honetan bertan algoritmoen diseinua eta implementazioa proposatu beharko duzue. Gogoratu algoritmo bat azaltzeko modurik errezena fluxu diagrama eta sasikode bat egitea direla. Adi! Atal bakoitzean hartutako erabakiak eta garatutako metodoak egoki argudiatu beharko dituzue. Azalpenak ere nahi ditut. Diagramak ez dira eurak bakarrik azaltzen, beraz testutik erreferentziatu egin beharko dituzue. Saiatu idazkera zientifiko-tekniko batekin idazten (pentsatu publikatuko duzuen lan bat dela). Ez argudiatzeak edo lana garaiz ez entregatzeak penalizazioa jasoko dute ebaluagarria den proiektuaren zati honetan. eGelan zehazten dira notebook-a igotzeko <b>egun eta orduak</b>.\n",
    "\n",
    "Momentuz, ez daukazue algoritmoen exekuzio eta konparaketak egin behar. Hirugarren fasean, esperimentazioaren inguruko baldintzak emango dizkizuet, eta, horrez gain, txostenaren idazketa burutu beharko duzue."
   ]
  },
  {
   "cell_type": "markdown",
   "metadata": {
    "id": "VJx1WpNTj7ag"
   },
   "source": [
    "# Grafoa kargatzea"
   ]
  },
  {
   "cell_type": "markdown",
   "metadata": {
    "id": "qH0MjZev0wrJ"
   },
   "source": [
    "Azpiko kodearen bidez grafo orijinala kargatu daiteke. "
   ]
  },
  {
   "cell_type": "code",
   "execution_count": null,
   "metadata": {
    "colab": {
     "base_uri": "https://localhost:8080/"
    },
    "id": "L7l77PfFjn_y",
    "outputId": "86db0e82-6e66-4987-8507-dd5cc6a151cd"
   },
   "outputs": [],
   "source": [
    "# SQL\n",
    "import sqlite3\n",
    "\n",
    "# Pandas\n",
    "import pandas as pd\n",
    "\n",
    "# Graph\n",
    "import community\n",
    "import networkx as nx\n",
    "\n",
    "from pdb import set_trace\n",
    "\n",
    "# Plot\n",
    "import matplotlib.pyplot as plt\n",
    "import seaborn as sns\n",
    "\n",
    "# Combinations\n",
    "import itertools\n",
    "\n",
    "#Numpy\n",
    "import numpy as np\n",
    "\n",
    "#Random\n",
    "import random\n",
    "\n",
    "from google.colab import drive\n",
    "drive.mount('/content/drive')\n",
    "\n",
    "def sortu_grafoa():\n",
    "\n",
    "    connect = sqlite3.connect('/content/drive/MyDrive/BH/database.sqlite')\n",
    "    query = \"\"\"\n",
    "    SELECT pa.paper_id, pa.author_id, a.name\n",
    "    FROM paper_authors AS pa JOIN papers AS p ON pa.paper_id = p.id\n",
    "    JOIN authors as a ON pa.author_id = a.id\n",
    "    WHERE p.Year BETWEEN '2014' AND '2015'\n",
    "    \"\"\"\n",
    "    df = pd.read_sql(query, connect)\n",
    "    \n",
    "    G = nx.Graph()\n",
    "\n",
    "    for p, a in df.groupby('paper_id')['name']:\n",
    "      for u, v in itertools.combinations(a, 2):\n",
    "        if G.has_edge(u, v):\n",
    "            G[u][v]['weight'] +=1\n",
    "        else:\n",
    "          G.add_edge(u, v, weight=1)\n",
    "    return G\n",
    "\n",
    "GO = sortu_grafoa()\n",
    "print(GO.nodes)"
   ]
  },
  {
   "cell_type": "markdown",
   "metadata": {
    "id": "09I75jcnj-9w"
   },
   "source": [
    "# Aurreprozesaketa\n",
    "\n",
    "Eman zaigun datubaseak bi arazo nagusi zituen gero azalduko diren algoritmoak aplikatze aldera: \n",
    "\n",
    "* Grafoko nodo bakoitza string batek identifikatzen du. String baten bidezko identifikazioa ez da komenigarria bektore moduan adieraziko diren soluzioentzat. Formalizazioan esan dugun bezala, guk nodo bakoitza bektoreko posizio baten bidez adierazten dugu eta beraz, eragiketak azkartzeko, posizio hori eta grafoan nodoak duen identifikazioa berdina izatea komeni zaigu.\n",
    "\n",
    "* Grafoko nodo guztiak ez daude lotuta, nodoen eskualde isolatuak daude. Datuak gehiago aztertuta, konturatu gara eskualde horien artetik gehienak oso txikiak direla (nodo bat, bi edo hirukoak), baina badirela bete batzuk handi samarrak (60 nodotik gorakoak handienak). Sortu nahi dugun partizio kopurua zein izan, agian beharrezkoa ziango da multzo isolatu handi horietatik batzuk kontuan hartzea.\n",
    "\n",
    "Bi arazo horiei aurre egiteko aurreprozesaketa sistema bat sortu dugu, azpiko kodearen bidez egiten dena. Labur esanda, bi aldaketa nagusi egiten dizkio hasierako grafo orijinalari: nodoen identifikazio-stringak zenbaki osoak bihurtzen ditu, soluzioen bektorean dagokien posizioarekin bat datoztenak; eskatzen zaion k partizio kopuruaren arabera bazertuko edo onartuko ditu multzo isolatuak, haien nodo kopuruak atalase-balio bat (k-ren mendekoa) gainditzen duen edo ez begiratuz. Baztertzen diren multzoetako autoreak, gerora, zero partiziokoak (partizio nulukoak) bezala aurkeztuko dira.  \n",
    "\n",
    "Grafo aurreprozesatuak soluzio-bektoreak txikiago egitea ahalbidetzen ditu (1843koak izan beharrean 500-800 bitartekoak) eta eragiketak egitea azkartu, hortaz. "
   ]
  },
  {
   "cell_type": "code",
   "execution_count": null,
   "metadata": {
    "colab": {
     "base_uri": "https://localhost:8080/"
    },
    "id": "dE2BVQO9j-Ao",
    "outputId": "40c82090-6b4c-416c-b84e-6fa3e1973703"
   },
   "outputs": [],
   "source": [
    "#Sarrera: G grafo orijinala, k sortu nahi den partizio kopurua\n",
    "#Irteera: G grafo aurreprozesatua, kodeak hiztegia, pisuakGuztira grafo prozesatuko pisuen batura eta verbose exekuzioari buruzko informazioa duen zerrenda. \n",
    "def prozesatu_grafoa(G,k,weight = 'weight'):\n",
    "\n",
    "    GO = G.copy() #Kopiatu grafo orijinala.\n",
    "\n",
    "    kodeak = { } #Hasieratu string-zenbaki oso erreferetziak izango dituen hiztegia. \n",
    "    pisuakGuztira = 0 #Grafoko ertzen pisuen batura gordeko duen aldagaia hasieratu. \n",
    "    \n",
    "    multzoak = [ ] #Grafoko multzo isolatuak gordeko dituen zerrenda hasieratu.\n",
    "    aztertuGabeak = list(GO.nodes) #Nodo aztertu gabeen zerrenda hasieran nodo guztiek osatuko dute.\n",
    "    ilara = [ ]\n",
    "    verbose = [ ] #Exekuzioari buruzko informazioa biltzeko.\n",
    "    ##1. FASEA: Grafoko multzo isolatuak topatu eta multzoak zerrendan gorde.\n",
    "    while (len(aztertuGabeak) > 0): #Multzo guztiak identifikatzeko.\n",
    "      unekoa = aztertuGabeak[0]  \n",
    "      ilara.extend(GO.edges(unekoa))\n",
    "      aztertuGabeak.pop(0)\n",
    "      multzoa = [unekoa]\n",
    "      while (len(ilara) > 0): #Zabalerako korritzea erabiltzen da. Multzo baten nodoak identifikatu.\n",
    "        unekoa = list(ilara.pop(0))[1]\n",
    "        if (unekoa in aztertuGabeak):\n",
    "          ilara.extend(GO.edges(unekoa)) #Uneko nodoaren ertzak gehitu ilarara\n",
    "          aztertuGabeak.remove(unekoa) #Aztertu gabeetatik kendu unekoa.\n",
    "          multzoa.append(unekoa)\n",
    "      multzoak.append(multzoa)\n",
    "    \n",
    "    #2. FASEA: Zein multzo baztertu erabakitzea.\n",
    "    listaHandienaTam = len(max(multzoak, key = len)) #Topatu den multzo handienaren nodo kopurua. \n",
    "    verbose.append(listaHandienaTam)\n",
    "    baztergarritasuna = listaHandienaTam/k #Multzo bat baztertua izango da atalase balio hau gainditzen ez badu, hau da, multzo handienaren tamaina zati partizio kopurua.\n",
    "    verbose.append(baztergarritasuna)\n",
    "    kendu = [ ]\n",
    "    maxim=0 \n",
    "    for i in multzoak: #Atalasea baino txikiagoak diren multzoak baztertzea. Baztertuko diren multzoen nodoak kendu zerrendan bildu. \n",
    "      if (len(i) < baztergarritasuna):\n",
    "        kendu.extend(i)\n",
    "        if (len(i) > maxim): #Verbose-rentzat, baztertu den multzo handienaren tamaina eskuratzeko.\n",
    "          maxim=len(i)\n",
    "\n",
    "    verbose.append(maxim)\n",
    "\n",
    "    mantenNodo = len(G.nodes) - len(kendu) #Mantenduko den nodo kopurua kalkulatu. \n",
    "    kont=0\n",
    "\n",
    "    #3. FASEA: Baztertzea erabaki den multzoak baztertu.\n",
    "    for i in kendu:\n",
    "      GO.remove_node(i) #Multzoaren nodoa ezabatu.\n",
    "      kodeak[i]=mantenNodo+kont  #Kodeak hiztegian zenbaki oso bat esleitu baztertua izango den nodo honi, baina onartuak izan direnen ondoren. Izan ere, nodo honek ez du edukiko posiziorik soluzio-bektoreetan.\n",
    "      kont+=1\n",
    "\n",
    "    #4. FASEA: Onartu diren multzoen nodoei soluzio-bektoreko posizio bat esleitu eta posizio horren zenbaki osoa ipini haien grafoko identifikazio bezala. \n",
    "    kont=0\n",
    "    for i in GO.nodes: #Grafo prozesatuko nodo bakoitzarentzat\n",
    "      if (i not in kodeak): \n",
    "        ertzak=GO.edges(i) #Eskuratu haren ertzak\n",
    "        for j in ertzak:\n",
    "          pisuakGuztira+=GO[j[0]][j[1]][weight] #Modularitatean erabiliko den parametroa eguneratu, grafo prozesatuko pisuen batura.\n",
    "        kodeak[i]=kont #Hiztegian nodoaren identifikazioaren berri eman.\n",
    "        mapping = {i:kont} #Grafoko nodoen izen aldaketa egiteko.\n",
    "        kont+=1\n",
    "        GO = nx.relabel_nodes(GO, mapping) #Grafoko nodoen izen aldaketa egiteko.\n",
    "\n",
    "    return GO, kodeak, pisuakGuztira, verbose\n",
    "\n",
    "k=10\n",
    "G, kodeak, pisuakGuztira, verbose = prozesatu_grafoa(GO,k)\n",
    "print(\"GRAFO AURREPROZESATUAREN XEHETASUNAK: \")\n",
    "print(\"\\nOrijinalaren nodo kopurua: \",len(GO.nodes))\n",
    "print(\"Aurreprozesatuaren nodo kopurua: \",len(G.nodes))\n",
    "print(\"Multzo handienaren tamaina: \",verbose[0])\n",
    "print(\"Bazterketa-tamaina: \",verbose[1])\n",
    "try:\n",
    "  print(\"Baztertu den multzorik handienaren tamaina: \",verbose[2])\n",
    "except:\n",
    "  print(\"Ez da multzorik baztertu.\")\n",
    "print(\"\\n\\nKodeak: \",kodeak)\n",
    "print(\"Nodo orijinalak: \",GO.nodes)\n",
    "print(\"Nodo aurreprozesatuak: \",G.nodes)"
   ]
  },
  {
   "cell_type": "markdown",
   "metadata": {
    "id": "_SN3MUlu0csp"
   },
   "source": [
    "Azpian ikus daiteke grafo aurrepozesatuaren irudikapen grafiko bat."
   ]
  },
  {
   "cell_type": "code",
   "execution_count": null,
   "metadata": {
    "colab": {
     "base_uri": "https://localhost:8080/",
     "height": 751
    },
    "id": "7tnHwBCk747P",
    "outputId": "839684ee-5b9b-453e-e17d-98766c4a8185"
   },
   "outputs": [],
   "source": [
    "#Draw graph\n",
    "plt.figure(figsize=(13, 9))\n",
    "pos = nx.spring_layout(G)\n",
    "nx.draw_networkx_nodes(G, pos, node_size = 20, node_color='0.75')\n",
    "nx.draw_networkx_edges(G, pos, alpha=0.5, width=1)\n",
    "plt.show()\n",
    "\n",
    "plt.axis('off')\n",
    "plt.show()"
   ]
  },
  {
   "cell_type": "markdown",
   "metadata": {
    "id": "r7AT21Exl0mP"
   },
   "source": [
    "# Bilaketa espazioa eta helburu-funtzioa"
   ]
  },
  {
   "cell_type": "code",
   "execution_count": null,
   "metadata": {
    "id": "k_R14qpamDkA"
   },
   "outputs": [],
   "source": [
    "# pip install ipynb exekutatu liburutegi hau erabili ahal izateko.\n",
    "from itertools import product\n",
    "import community\n",
    "import networkx as nx\n",
    "import numpy as np\n",
    "import random\n",
    "\n",
    "#Partizio baten kanpo eta barne pisuak kalkulatzen ditu\n",
    "def parPisuak (G,soluzioa,k,weight = 'weight'):\n",
    "  kideak = np.where(soluzioa == k)[0] #K partizioko kideak lortu\n",
    "  bpisuak = 0\n",
    "  kpisuak = 0\n",
    "  for i in range(len(kideak)): #Kide bakoitzerako\n",
    "    ertzak = G.edges(kideak[i]) #Bere mugakideak eskuratu\n",
    "    for j in ertzak:\n",
    "      if (j[1] in kideak): #Mugakidea uneko partizioko kidea bada\n",
    "        bpisuak+=G[kideak[i]][j[1]][weight] #Barne pisuetara\n",
    "      else: #Ez bada\n",
    "        kpisuak+=G[kideak[i]][j[1]][weight] #Kanpo pisuetara\n",
    "  return(bpisuak/2,kpisuak) #Barne pisuak zati bi egin behar dira, nodo batetik bestera iritsi bada, alderantziz ere egin delako. Kanpo pisuen kasuan ez, kanpoko nodotik barrukorako ertza ez delako aztertu.  \n",
    "\n",
    "def modularitatea(G, soluzioa, pisuakGuztira):\n",
    "  partizioKop=max(soluzioa)+1\n",
    "  modularitateak = [ ]\n",
    "  #0 partizioan ahalik eta nodo gutxien egotea nahi dugu, zigortu, beraz, partizio honetan sailkatzea.\n",
    "  for i in range(1,partizioKop):\n",
    "    bpisuak, kpisuak = parPisuak(G,soluzioa,i)\n",
    "    modularitateak.append(bpisuak/pisuakGuztira - ((kpisuak + 2*bpisuak)/(2*pisuakGuztira))**2)\n",
    "  return sum(modularitateak)\n"
   ]
  },
  {
   "cell_type": "markdown",
   "metadata": {
    "id": "rWm_ZA4aBSAy"
   },
   "source": [
    "Soluzio bat bideragarritzat hartu dugu bi baldintza hauek betetzen baditu:\n",
    "\n",
    "* Zehatz-mehatz k partizio baditu.\n",
    "* Komunitate bakoitzak gutxienez bi kide baditu."
   ]
  },
  {
   "cell_type": "code",
   "execution_count": null,
   "metadata": {
    "id": "wF4GFQpIl8bQ"
   },
   "outputs": [],
   "source": [
    "def soluzioa_bideragarria_da (soluzioa,partizio_kopurua,grafoa):\n",
    "  partizio_kop = max(soluzioa)+1 #Partizio kopurua\n",
    "  #ZIURTATU: Eskatutako partizio kopurua eta soluzioak dituenak bat datozela. \n",
    "  if (partizio_kop != partizio_kopurua):\n",
    "    #print(\"SOLBID: Soluzioa ez da bideragarria. Eskatutako partizio kopuruaren desberdina.\",partizio_kop,partizio_kopurua)\n",
    "    return(False)\n",
    "  partizioen_elem_kop = np.zeros(partizio_kop) #Partizio bakoitzean dagoen autore kopurua\n",
    "  #ZIURTATU: komunitate bakoitzean gutxienez bi pertsona daude. \n",
    "  for j in range(len(soluzioa)): #Soluzio bakoitzerako\n",
    "    if (soluzioa[j] >= 0): #Uneko autorearen partizio-zenbakia baliozkoa bada. Autore bakartia bada hau -2 izango da.\n",
    "      partizioen_elem_kop[soluzioa[j]]+=1 #Batu bat uneko autoreari esleitu zaion partizioan\n",
    "  if (sum(partizioen_elem_kop < 2) >= 2): #Partizioren batek autore bat edo gutxiago baditu, soluzioa ez da bideragarria. (0 partizioak posible du ez eduki kiderik)\n",
    "    return(False)\n",
    "  return(True)"
   ]
  },
  {
   "cell_type": "markdown",
   "metadata": {
    "id": "TLpHKoTvw8W9"
   },
   "source": [
    "#Algoritmo eraikitzailea"
   ]
  },
  {
   "cell_type": "markdown",
   "metadata": {
    "id": "kBMwuIrTlj_g"
   },
   "source": [
    "Problema honek grafoa hainbat esparrutan banatzea eskatzen du eta esparru guztiek dute beti puntu zentral bat. Ideia horretatik abiatu ginen algoritmo eraikitzailea sortzeko. Azpiko algoritmo eraikitzaileak ausaz aukeratzen ditu k puntu grafoan zehar eta horietatik abiatuta, partizioak eratzen hasten da. Hasierako puntu batek berarekin lotuta dauden puntuak partizio bereko egingo ditu, eta hauek ere haiekin lotura duten puntuak partizio bereko egingo dituzte, eta horrela errekurtsiboki. Hau da, puntu batek bere partizioa \"kutsatzen\" die ingurukoei. Puntu bakoitzari behin bakarrik esleitu dakioke partizio bat, horri esker saihesten dugu partizio batek besteak desagertaraztea, haien puntuak berridatziz. \n",
    "\n",
    "Algoritmo hau bisualki ikus daiteke esteka hauetan: \n",
    "\n",
    "* K=4 | https://drive.google.com/file/d/1h4A0hhFaHxmJhdU8PnBEuH7zlu0xTfaA/view?usp=sharing\n",
    "\n",
    "* K = 10 | https://drive.google.com/file/d/1lYZqjuyEQi4sgDZ8srzzpsRpLlc5Ib1b/view?usp=sharing\n",
    "\n",
    "* K = 50 | https://drive.google.com/file/d/1Xzvbvv_lM_fp6FlheRcLkT9JCRIleHB7/view?usp=sharing\n",
    "\n",
    "Esteka horretan hiru GIF aurkezten dira, aurkezten ari garen algoritmoaren exekuzioa erakusten dutenak. Fotograma bat ekoitzi da hamar iterazioko eta lehen irudian k=4 partizio sortzeko eskatu zaio, bigarrenean hamar partizio sortzeko eta azkenekoan berrogeita hamar sortzeko. Kontuan hartu behar da, batez ere lehen irudiaren kasuan, nahiz eta badirudien hiru partizio sortu dituela, laugarrena grafo aurreprozesatuan gehitu ez diren nodoentzat dela. \n",
    "\n",
    "**Irudietatik ateratako ondorioak**\n",
    "\n",
    "* Hiru irudietan ikus daiteke hasierako puntuak nahiko urruti egon ohi direla elkarrengandik eta partizio gehienek nodoetan zehar hedatzeko aukera daukatela, nahiz eta batzuek nodo gehiago bereganatu besteek baino.\n",
    "\n",
    "* k = 50en kasuan, partizio asko sortzea eskatzen zaionez, grafo aurreprozesatuan sartu diren zenbait multzori (txikienak normalean) ez zaizkie partiziorik esleitzen, hasiera punturik ez zaielako ipini probabilitatearengatik. \n",
    "\n",
    "**Algoritmoaren propietateak**\n",
    "\n",
    "Algoritmo honek soluzio onak sortu ohi ditu k gehienetan (handietan ere bai). Gainera, bere soluzio guztiek propietate hauek betetzen dituzte:\n",
    "\n",
    "* Beti dira bideragarriak. Soluzio bat bidergarri izateko gutxienez bi nodoz osatutako partizioak eduki behar ditu, hori bermatuta dago beti. Berme hori lortzeko algoritmoak hasierako puntuaz gain hasierako puntu bakoitzarentzat haren ondoko nodo bat erreserbatzen du eta partizio bera esleitu, hala, partizio bakoitzak ziurtasunez bi nodo edo gehiago edukiko ditu. Ez badu topatzen hasierako puntu horri erreserbatzeko nodorik, beste hasierako puntu bat bilatuko du.\n",
    "\n",
    "* Bideragarria izateaz gain, beti komunitate kohesionatuak sortuko ditu. Komunitate kohesionatu gisa hartzen dugu komunitateko edozein nodotik, behar adina barne ertz erabiliz, komunitateko beste edozein nodotara iritsi daitekeen komunitatea. Gure hasierako formalizazioaren arabera, komunitate guztiek beti izan beharko lukete kohesionatuak eta algoritmo gehienekin halako komunitateak lortzen saiatzen gara. Algoritmo eraikitzaile honek ordea beti sortuko ditu komunitate kohesionatuak, puntu zentral batetik hedatuz sortzen baititu. Honek balio gehigarria ematen die, helburu funtzioak ematen dienaz gain, algoritmo honek sortutako soluzioei. \n",
    "\n",
    "Ondorengo propietateak gehitzea ere pentsatu dugu algoritmo eraikitzaile honentzat eta zenbait proba egin ere bai, baina azkenean ez ditugu gehitu, azpian azaldutako arrazoiengatik. \n",
    "\n",
    "* **Algoritmoa behartzea grafoko multzo independente bakoitzari partizio bat gutxienez esleitzera**. Gure probleman, grafoak nodo multzo elkar-konektatu handi bat du (500-600 nodo artekoa) eta ondoren badira nodo multzo beste nodoekiko erabat isolatu txikiago batzuk (65 nodo ingurukoa handiena). Aurreprozesaketan multzo txiki gehienak ezbatzen ditugula esan dugu, baina k ertainetarako bigarren mailako multzo horien artetik handienak onartu ohi ditugu. K ertainetan ia beti egokituko da multzo guztietan hasierako puntu bat, probabilitate hutsarengatik, baina gertatu ohi da k handietan (30etik gora, adibidez) multzo batzuk hasierako punturik gabe gelditzea eta beraz, partizio nulua esleitu behar izatea multzo osoari (0 partizioa). Hori saihesteko pentsatu genuen metodo hau, baina baztertzea erabaki genuen, bi arrazoirengatik:\n",
    "\n",
    "    * Multzo txiki bakoitzari gutxienez partizio bat esleitzen bazaio, k ertainetan agian hobekuntzaren bat egongo da, baina k handiagoetan multzo bakoitzak partizio bat eduki dezan k gehiegi \"xahutuko\" dira eta hortaz, gutxiago erabiliko dira benetan garrantzitsuak diren multzo handietan.\n",
    "    * Algoritmoa hainbat aldiz exekutatuta antzeko emaitzak lor daitezke. \n",
    "\n",
    "* **Grafoaren pisu handiko guneetatik aukeratzea hasierako puntuak**. Ideia grafoari buruzko informazio bilketa bat egitea zen, algoritmoaren muina exekutatzen hasi aurretik. Bilketa horretan ertz pisutsuenak dituzten nodoak atzemango ziren eta horietan kokatu hasierako puntuak, izan ere, puntu horiek komunitate baten puntu zentral izateko aukera handiagoa dutela pentsatu genuen. Hala ere, askotan ertz pisutsudun nodoak elkarrengandik hurbil daude eta gainera, oinarrizko algoritmo eraikitzaileak zuen dibertsifikazio gaitasuna murrizten zaio, hasierako puntuak gehienetan berdinak hartuko baitzituen algoritmoak. \n",
    "\n",
    "* **Grafoko multzo bakandu bakoitzaren pisu-proportzioaren arabera partizio gehiago edo gutxiago inbertitzea multzo bakandu bakoitzean**. Grafoa multzo isolatuetan bantzea zen ideia eta bakoitzean zenbat partizioen hasiera puntu jartzea erabakitzea ausaz egin beharrean, multzoen ertzen batez besteko pisuen arabera egitea. Batez besteko pisu handia zuten multzoei partizio gehiago esleituko zitzaizkien eta gutxiago besteei. Grafoaren beste aurreprozesaketa bat gehiago eskatzen duenez, k handitu ahala moteldu egiten da algoritmoa, exekuzio bakoitza egiteko segundu batzuk hartzeraino k handietan. Espero genuenaren kontrara, ez zituen emaitza oso onik eman.\n",
    "\n",
    "\n",
    "Laburbilduz, azpiko **algoritmoaren sasikodea** honakoa da:\n",
    "\n",
    "* Hasieratu soluzioa.\n",
    "* k partizio kopurua aldiz EGIN:\n",
    "    * Partizioaren hasierako puntua esleitu arte EGIN:\n",
    "        * Ausaz aukeratu grafoko nodo bat.\n",
    "        * Egiaztatu aukeragarria dela eta ondoko nodo bat duela gutxienez.\n",
    "    * BUKATU EGIN;\n",
    "* BUKATU EGIN;\n",
    "* Hasierako puntuak eta bere ondoko baten ertzak itxaron zerrendara gehitu.\n",
    "* Itxaron zerrenda hutsik ez dagoen arte EGIN:\n",
    "    * Barajatu itxaron zerrenda.\n",
    "    * Hautatu itxaron zerrendako lehen elementua eta ezabatu bertatik.\n",
    "    * Elementu hori aurkitu duen nodoaren partizioa esleitu elementuak adierazten duen nodoari.\n",
    "    * Nodo horren ingurukoak itxaron zerrendara gehitu.\n",
    "* BUKATU EGIN;\n",
    "* Partiziorik esleitu ez zaien nodoei partizio nulua (0) esleitu."
   ]
  },
  {
   "cell_type": "code",
   "execution_count": null,
   "metadata": {
    "colab": {
     "base_uri": "https://localhost:8080/"
    },
    "id": "kx7U-hjlwrJE",
    "outputId": "546f10c9-59e0-443a-ca64-adc5968acb1f"
   },
   "outputs": [],
   "source": [
    "def sortu_soluzioa (grafoa,k):\n",
    "  ausazko_hasieraPuntuak = [ ] #Partizio bakoitzaren nukleoa\n",
    "  soluzioa = np.full(len(grafoa.nodes),-1) #Hasieran soluzioak -1 balioak bakarrik ditu, autore esleitu gabeak.\n",
    "  for i in range(1,k): #Partizio kopurua adina aldiz\n",
    "    while True: #Hasierako nodo egokiak aurkitu arte egin\n",
    "      puntua = random.randint(0,len(grafoa.nodes)-1) #Hautagai bat sortu\n",
    "      if (puntua not in ausazko_hasieraPuntuak and len(list(grafoa.edges(puntua))) > 0 and soluzioa[list(grafoa.edges(puntua))[0][1]] == -1 and soluzioa[puntua] == -1): #Hautagaiak ez du jada aukeratuta egon behar. Hautagaiak gutxienez lotura bat eduki behar du (partizio bakoitzak gutzienez 2 kide). Hautagaiak duen loturen artetik guxtienez bat ez da izan behar beste hasiera puntu bat edo haren ondoko erreserbatu bat. Gainera, hasierako puntuak ezin du beste hasierako puntu batek erreserbatuta egon.  \n",
    "        ausazko_hasieraPuntuak.append(puntua) #Gehitu hasierako puntua\n",
    "        unekoa = list(grafoa.edges(ausazko_hasieraPuntuak[i-1])) #Eskuratu bere loturak\n",
    "        soluzioa[unekoa[0][1]]=i #Erreserbatutako hasiera puntuaren ondoko nodoa i partiziokoa egin\n",
    "        soluzioa[ausazko_hasieraPuntuak[i-1]]=i #Hasiera puntua i partiziokoa egin\n",
    "        break #Bukatu uneko partizioaren hasierako puntuaren bilaketa\n",
    "  #HASIERAKO PUNTUEN HEDAPENA\n",
    "  itxaron_zerrenda = [ ] #Exekuzioa antolatuko duen ilara hasieratu \n",
    "  for i in range(1,k): #Hasierako puntu bakoitzarentzat\n",
    "    itxaron_zerrenda.append((i,grafoa.edges(ausazko_hasieraPuntuak[i-1]))) #Gehitu bere ondoko nodoak itxaron zerrendara\n",
    "    itxaron_zerrenda.append((i,grafoa.edges(list(grafoa.edges(ausazko_hasieraPuntuak[i-1]))[0][1]))) #gehitu hasierako puntuaren ondoko erreserbatuaren mugakide nodoak ere zerrendara, bide esklusiboak izan ditzakeelako.\n",
    "  while len(itxaron_zerrenda) > 0: #Itxaron zerrendan zerbait dagoen bitartean\n",
    "    random.shuffle(itxaron_zerrenda) #Itxaron zerrenda barajatu, partizio bakarra ez dadin hedatu uneoro grafoan barrena.\n",
    "    unekoarenErtzakElem = itxaron_zerrenda.pop(0) #Ilarako lehenengo elementua hautatu eta kendu\n",
    "    unekoarenErtzak = list(unekoarenErtzakElem[1]) #Elementu honek 2 zati ditu, iturburuko elementuaren partizioa [0] eta iturburu horretatik zeuden loturak [1]. Loturak eskuratu.\n",
    "    for i in unekoarenErtzak: #Lotura bakoitzerako egin:\n",
    "      if (soluzioa[i[1]] == -1): #Loturak adierazten duen nodoak oraindik partiziorik ez badu esleituta:\n",
    "        soluzioa[i[1]]=unekoarenErtzakElem[0] #Elementu honen partizioa esleitu. \n",
    "        itxaron_zerrenda.append((unekoarenErtzakElem[0],grafoa.edges(i[1]))) #Nodo honetara iritsi garen lehen aldia denez, itxaron zerrendara gehitu bere loturak eta iturburuaren partizioa.\n",
    "  for i in range(len(soluzioa)): #Baliteke grafoak loturarik gabeko nodoak edukitzea\n",
    "    if soluzioa[i] == -1: #Haietara oraindik ez da inoiz iritsi algoritmoa\n",
    "      soluzioa[i]=0 #Esleitu 0 izeneko partizioa, partizio nulua \n",
    "  return(soluzioa) #Itzuli soluzioa\n",
    "\n",
    "sortu_soluzioa(G,k)"
   ]
  },
  {
   "cell_type": "markdown",
   "metadata": {
    "id": "vAJHnKJ3LUi7"
   },
   "source": [
    "Azpiko kodeak algoritmo eraikitzailea hainbat aldiz exekutatzen du eta exekuzio guzti horietan lortutako soluziorik onena itzuli. 0.459 inguruko fitness-a duen soluzio bat lortzen du 1000 aldiz exekutatuta."
   ]
  },
  {
   "cell_type": "code",
   "execution_count": null,
   "metadata": {
    "colab": {
     "base_uri": "https://localhost:8080/"
    },
    "id": "sFsjqIdbmYV4",
    "outputId": "50376df4-7027-42a4-8160-205c032996a2"
   },
   "outputs": [],
   "source": [
    "def eraikitzaile_search (G,iterazioak,k,pisuakGuztira):\n",
    "  sol_onena = sortu_soluzioa(G,k)\n",
    "  fitness_onena = modularitatea(G,sol_onena,pisuakGuztira)\n",
    "  print(\"Hasiera: \",fitness_onena)\n",
    "  for i in range(iterazioak):\n",
    "    hautagaia = sortu_soluzioa(G,k)\n",
    "    fitness_hautagaia = modularitatea(G,hautagaia,pisuakGuztira)\n",
    "    if (fitness_hautagaia > fitness_onena and soluzioa_bideragarria_da (hautagaia,k,G)):\n",
    "      fitness_onena=fitness_hautagaia\n",
    "      sol_onena=hautagaia\n",
    "      print(\"Hobekuntza: \",fitness_onena, \"iterazioa: \",i)\n",
    "  return(fitness_onena,sol_onena)\n",
    "\n",
    "fitness_onena, sol_onena = eraikitzaile_search(G,1000,k,pisuakGuztira)\n",
    "print(fitness_onena,sol_onena)"
   ]
  },
  {
   "cell_type": "markdown",
   "metadata": {
    "id": "P4A-oYjZxwx7"
   },
   "source": [
    "# Random Search"
   ]
  },
  {
   "cell_type": "markdown",
   "metadata": {
    "id": "W_2sekzcOh2t"
   },
   "source": [
    "Gure algoritmoek hobetu beharko luketen oinarri-soluzioa zein den jakiteko, Random Search algoritmoa inplementatu dugu azpian eta ikusi daiteke 1000 iteraziorekin 0.045eko fitness-a duen soluzio bat ematen duela. "
   ]
  },
  {
   "cell_type": "code",
   "execution_count": null,
   "metadata": {
    "colab": {
     "base_uri": "https://localhost:8080/"
    },
    "id": "FE_9uZfqu4FS",
    "outputId": "b6017f47-358b-466e-dc0c-4a201175ec94"
   },
   "outputs": [],
   "source": [
    "def random_search(G,k,it,pisuakGuztira):\n",
    "  i=0\n",
    "  best_fitness = float(\"-inf\")\n",
    "  best_solution = np.zeros(len(G))\n",
    "  while i < it:\n",
    "    sol_berria = np.random.randint(1,k,len(G))\n",
    "    fitness_berria = modularitatea(G,sol_berria,pisuakGuztira)\n",
    "    if fitness_berria > best_fitness:\n",
    "      best_solution = sol_berria\n",
    "      best_fitness = fitness_berria\n",
    "    i+=1\n",
    "  return best_solution, best_fitness\n",
    "\n",
    "best_solution, best_fitness = random_search(G,k,1000,pisuakGuztira)\n",
    "print(best_solution,best_fitness)\n"
   ]
  },
  {
   "cell_type": "markdown",
   "metadata": {
    "id": "ZjNUnmrDLfE4"
   },
   "source": [
    "# Bilaketa lokalak"
   ]
  },
  {
   "cell_type": "markdown",
   "metadata": {
    "id": "zGDwANUqIbrq"
   },
   "source": [
    "## Suberaketa simulatua\n",
    "\n",
    "CDP problemari aurre egiteko egokia izan daitekeen algoritmoetako bat Suberaketa Simulatua da. Algoritmo honen aldeko apustua egitea erabaki genuen dibertsifikazioan duen gaitasun handiarengatik. Gure bilaketa-espazioa menditsua da, minimo lokal ugarikoa, horregatik, interesgarria iruditu zitzaigun soluzio kaskarragoak onartzen dituen algoritmo bat inplementatzea, ingurune gehiago erabiltzen dituztenak (VNDa adibidez) edo hasierako soluzio anitzekoak (ILS adibidez) baino. Inguruneak eskuratzeko funtzio batzuk nahiko motelak izan daitezke, batez ere hautaketa-irizpide bezala greedy metodoa erabiltzen badute. Intuizioa erabiliz, gainera, hamming bezalako aldaketa gutxi eragiten dituzten inguruneak VND motako algoiritmoetan bigarren mailako gisa erabiltzea (dugun soluzio onena hobekuntza txikien bidez doitzeko) ideia ona izan daitekeen arren, kontrako alde bat aurkitu diogu: aldaketa txikiak eragiten dituztenez, minimo lokaletik irteteko aukera gutxi dituzte eta hori ingurune malkartsuetan kaltegarria izan ohi da. Soluzio txarragoak onartzen dituzten algoritmoek aldiz, aukera handiagoa dute minimo lokaletatik ateratzeko kasu honetan, pazientzia egokia ipintzen bazaie.\n",
    "\n",
    "Suberaketa simulatuak ez ditu hautaketa-irizpideak erabiltzen, ausaz aukeratzen du soluzio bat ingurune batetik. Honek denbora aurreztu ohi du bilaketa-espazio malkartsuetan. Zalantzak eduki genituen Suberaketa simulatuaren ingurunea hautatzerako orduan eta hainbat proba egin genituen swap eta hamming inguruneekin. Insert ingurunea hasieratik baztertu genuen, haren handitasunak motelegia egiten baitu. Bi inguruneek antzeko garapena dute hasierako soluzioetan: hamming-en kasuan nodo bakarrari eta swap-en kasuan bi nodori aldatuko zaizkie partizioak iterazioko. Alabaina, swap komenigarriagoa izan daiteke, ez duelako eskatzen soluzioen bideragarritasuna egiaztatzea iterazio bakoitzean, partizioen trukeak partizio guztiek beti nodo kopuru berdinarekin mantentzen baititu (bakoitzak gutxienez bi edukiko ditu, beraz). Hamming-en kasuan bideragarritasuna egiaztatu behar da, baina soluzio aniztasun handiagoa eskaintzen du trukean, partizioek haien nodo kopuruak alda ditzaketelako. Hala ere, CDP probleman nodo kopuru antzekoko soluzioak egokiagoak izan ohi dira. Bi inguruneekin egin ditugu probak. \n",
    "\n",
    "Gure Suberaketa simulatuaren algoritmoak honako ezaugarriak ditu:\n",
    "\n",
    "* Tenperaturaren eguneraketa: tenperatura oreka lortzen den iterazio bakoitzean eguneratzen da. Eguneraketa hori egiteko funtzio geometriko bat erabiltzen dugu. Modu horretan lortzen dugu tenperatura oso altuko iterazio gutxi egotea (dibertsifikazio iterazioak) eta tenperatura baxuko asko (esplotaziorako denbora utzi), atalase baliora iristeko iterazio bakoitzean pauso txikiagoak emango baititu funtzioak. Kontuan hartu behar da iterazio bat aipatzen dugunean oreka lortu den iterazio bat dela eta oreka hori lortzeko askoz soluzio gehiago aztertu beharko direla tenperatura altua denean, aukera gutxi izango delako soluzioak baztertzeko. Tenperatura baxua denean aldiz, kontrakoa gertatuko da eta horregatik, iterazio gehiago utzi behar dizkiogu algoritmoari esplotazio prozesua burutu dezan. \n",
    "\n",
    "* Oreka baldintza: gure algoritmoan iterazio batean oreka lortu dela esango dugu baldin eta aurkitutako soluzio onena hobetu zuen azken soluzioa aztertu ondoren, n iterazio igaro badira. N hori algoritmoaren parametro bat izango da, erabiltzaileak zehaztu beharko duena. Parametro hori zenbat eta handiagoa izan, orduan eta azterketa gehiago burutuko ditu algoritmoak (soluzio hobeak topatuz, gehienetan), denbora gehiago behar izatearen truke.\n",
    "\n",
    "* Gelditze irizpidea: tenperaturaren eguneraketa egiteko funtzio geometrikoak erabiltzen direnean ia ezinbestekoa da gelditze irizpidean tenperatura minimoko atalase bat edukitzea. Gure gelditze irizpideak atalase bat emanda, uneko tenperatura hura baino baxuagoa den kalkulatuko du eta hala bada, exekuzioa geldituko du. \n",
    "\n",
    "* Soluzioaren onarpen irizpidea: Suberaketa simulatua inplementatzen duten programa guztiek irizpide bat eduki behar dute soluzio hautagai bat onartu edo ez ebaluatzeko. Onartzen bada, soluzio hori erabiliko da hurrengo iterazioetan (oreka lortu arte) hurrengo hautagaiak eta haien ingruuneak topatzeko. Bestela, aurreko soluzioaren ingurunearekin jarraituko du programak. Gure kasuan, onarpen irizpidea Suberaketa simulatuaren algoritmo orijinalean proposatutakoaren antzekoa da, hau da, onartutako azken soluzioaren egokitasuna eta hautagaiarenaren arteko diferentzia (energia diferentzia) kalkulatzen da eta hura energiaren funtzioari aplikatzen zaio. Funtzio horren emaitza izango da hautagaia onartua izateko probabilitatea, diferentzia handitu ahala txikiagoa. \n",
    "\n",
    "**Algoritmoaren sasikodea** honakoa da:\n",
    "\n",
    "* Sarrerak: hasierakoBeroa (hasiera-tenperatura), hoztuDa (tenperatura minimoa, gelditze-atalase balioa), atalasea (oreka lortzeko hobekuntzarik ekarri behar ez duten soluzio kopurua), G (grafo aurreprozesatua), k (partizio kopurua) eta pisuakGuztira (grafoko ertzen pisuen batura).\n",
    "* Irteerak: soluzio onenaren helburu funtzioaren balioa eta soluzio onena.\n",
    "\n",
    "-----------\n",
    "\n",
    "* Hasieratu tenperatura, soluzio onena, iterazio kontagailuak, eta abar.\n",
    "* BITARTEAN not gelditzeIrizpidea EGIN:\n",
    "    * Hasieratu iterazioa eta oreka.\n",
    "    * Kalkulatu uneko soluzio onenaren ingurunea.\n",
    "    * BITARTEAN not orekaBaldintza EGIN:\n",
    "        * Ausaz aukeratu soluzio bat uneko ingurunetik.\n",
    "        * BALDIN soluzioa orain arteko onena ORDUAN:\n",
    "            * Gorde.\n",
    "            * Eguneratu ingurune onenaren aldagaia.\n",
    "            * Oreka kontagailua hasieratu.\n",
    "        * BESTELA BALDIN soluzioaOnartuBeharDa ORDUAN:\n",
    "            * Eguneratu ingurunea soluzioaren ingurunea ipiniz. \n",
    "            * Oreka kontagailua eguneratu.\n",
    "        * BESTELA:\n",
    "            * Oreka kontagailua eguneratu.\n",
    "        * BUKATU BALDIN;\n",
    "    * BUKATU EGIN;\n",
    "    * Eguneratu tenperatura.\n",
    "    * Eguneratu gelditze irizpidearen kontagailua.\n",
    "* BUKATU EGIN;"
   ]
  },
  {
   "cell_type": "code",
   "execution_count": null,
   "metadata": {
    "id": "d7i1FTB7mfiw"
   },
   "outputs": [],
   "source": [
    "import math\n",
    "import random as rm\n",
    "def eguneratuTenperatura (hasierakoT,oraingoT,iterazioa):\n",
    "  oraingoT = hasierakoT / (iterazioa+1)\n",
    "  return(oraingoT)\n",
    "\n",
    "def gelditu (tenperatura,minimoa):\n",
    "  if (tenperatura < minimoa):\n",
    "    return(1)\n",
    "  return(0)\n",
    "\n",
    "def orekaLortuDa (hobekGabe,atal):\n",
    "  if (hobekGabe > atal):\n",
    "    return(1)\n",
    "  return(0)\n",
    "\n",
    "def soluzioaOnartuBeharDa (hautagaia,hautagaiaF,onartuaF,tenperatura):\n",
    "  energia_diferentzia = onartuaF - hautagaiaF\n",
    "  onarpena = math.exp(-energia_diferentzia/ tenperatura)\n",
    "  #print(hautagaiaF, onartuaF, onarpena)\n",
    "  return(onarpena)"
   ]
  },
  {
   "cell_type": "code",
   "execution_count": null,
   "metadata": {
    "id": "ZmTIh6ywmk-5"
   },
   "outputs": [],
   "source": [
    "#SWAP INGURUNEA\n",
    "#Swap inguruneak soluzioko edozein digitu beste edozeinekin trukatuta sor\n",
    "#daitezkeen soluzio guztiak barne hartzen ditu.\n",
    "def swap_ingurunea(sol,G,k):\n",
    "  soluzioak = []\n",
    "  for i in range(len(sol)):\n",
    "    for j in range(i+1,len(sol)): #i-n dagoen elementua j-n jarri eta j-n dagoena, i-n\n",
    "      if (sol[i] == sol[j]):\n",
    "        continue\n",
    "      nes = sol.copy()\n",
    "      a = nes[i]\n",
    "      nes[i] = nes[j]\n",
    "      nes[j] = a\n",
    "    if (soluzioa_bideragarria_da(sol,k,G)):\n",
    "      soluzioak.append(nes)\n",
    "  return soluzioak\n",
    "\n",
    "#Bilaketa lokalaren inguruneak eratzeko honako funtzioak erabili daitezke:\n",
    "#HAMMING INGURUNEA\n",
    "#Hamming inguruneak uneko soluzioari digitu bat aldatuta sor daitezkeen\n",
    "#soluzio guztiak barne hartzen ditu.\n",
    "def hamming_ingurunea(sol,G,k):\n",
    "  solutions = []\n",
    "  for i in range(len(sol)): #soluzioko elementu bakoitzerako\n",
    "    s = sol.copy()\n",
    "    for j in range(1,k+1):\n",
    "      s[i] = j\n",
    "      if soluzioa_bideragarria_da(sol,k,G): #soluzioa bideragarria bada, ingurunean sartu\n",
    "        solutions.append(s)\n",
    "  return solutions\n",
    "\n",
    "def  suberaketaSimulatua (hasierakoBeroa,hoztuDa,atalasea,G,k,pisuakGuztira):\n",
    "  kont = 0 #Lehen begiztaren iterazio kontagailua\n",
    "  tenperatura = hasierakoBeroa #Tenperatura gordeko duen aldagaia\n",
    "  best_solution = np.random.randint(1,k,len(G.nodes)) #Soluzio onena ausazko hasierako soluzio bat da\n",
    "  best_fitness = modularitatea(G,best_solution,pisuakGuztira) #Helburu funtzioaren bidez ausazko soluzio horren egokitasuna neurtuko dugu\n",
    "  uneko_sol = best_solution #begizta barruan erabiltzeko aldagaiak\n",
    "  uneko_fitness = best_fitness #uneko iteraziora arte aurkitu den soluzio onena (bigarren begiztan), ez du zertan inoizko onena izan\n",
    "  aurrekoIngurunea = swap_ingurunea(best_solution,G,k) #Inguruneak birziklatu eta kalkuluak aurrezteko, beti erabili berri den ingurunea gorde.\n",
    "  ingurune_onena = aurrekoIngurunea #Ingurune onena gorde, kalkuluak aurrezteko lehen iteraziotik bigarrenera igarotzean.\n",
    "  while (gelditu(tenperatura,hoztuDa) == 0): #Gelditze irizpidea, tenperatura minimora iritsi gara?\n",
    "    hobekGabe=0 #Bigarren begiztari hasiera eman ahal izateko, hobekGabe behar bezala hasieratu\n",
    "    aurrekoIngurunea = ingurune_onena #Aurreko ingurunea hasieratu orain arteko soluzio onenaren gordetako ingurunearekin, bigarren begizta ingurune horretan hasiko baita.\n",
    "    hautagaia= best_solution\n",
    "    uneko_sol = best_solution\n",
    "    while (orekaLortuDa(hobekGabe,atalasea) == 0): #Oreka irizpidea, ez da soluzio hoberik aurkitu atalasea iterazioetan?\n",
    "      hautagaia = random.choice(aurrekoIngurunea)\n",
    "      hautagaia_fitness = modularitatea(G,hautagaia,pisuakGuztira) #Uneko inguruneko soluziorik onenaren egokitasuna neurtu\n",
    "      onartu = soluzioaOnartuBeharDa (hautagaia,hautagaia_fitness,best_fitness,tenperatura) #Soluzioa onargarria den edo ez begiratu\n",
    "      if (onartu > 1): #Hala bada eta gainera, inoizko onena bada\n",
    "        best_solution=hautagaia #Soluzio onena bezala hartu\n",
    "        best_fitness=hautagaia_fitness\n",
    "        uneko_sol = hautagaia\n",
    "        uneko_fitness = hautagaia_fitness\n",
    "        ingurune_onena = swap_ingurunea(best_solution,G,k) #Ingurune berria kalkulatu, zeina ingurune onena ere izango den\n",
    "        aurreko_ingurunea = ingurune_onena  \n",
    "        hobekGabe=0 #Hobekuntza bat gertatu da, berrabiarazi oreka-kontagailua, 0 iterazioetan jarraian aurkitu dira unekoa baino soluzio hobeak\n",
    "        print(\"Hobekuntza:\",best_fitness)\n",
    "      elif (rm.random() < onartu): #Soluzioa ez bada inoizko onena, baina onartzea erabaki bada\n",
    "        uneko_sol = hautagaia\n",
    "        uneko_fitness = hautagaia_fitness\n",
    "        hobekGabe+=1 #Ez da hobekuntzarik lortu iterazio honetan, beraz, iterazio bat gehiago jarraian hobekuntzarik lortu gabe\n",
    "        aurrekoIngurunea = swap_ingurunea(best_solution,G,k) #Hurrengo ingurunea kalkuatu, onartutako soluzioarena, hain zuzen \n",
    "        print(\"Okertu: \",uneko_fitness, \" (\",best_fitness,\") \")\n",
    "      else: #Soluzioa ez bada onartu\n",
    "        hobekGabe+=1 #Hobekuntzarik gabeko beste iterazio bat\n",
    "        print(\"Ukatu: \",hautagaia_fitness, \" (\",best_fitness,\") \")\n",
    "      #print(hautagaia)  \n",
    "    kont+=1 #Tenperaturaren eguneraketarako, iterazio bat gehiago igaro da.\n",
    "    tenperatura= eguneratuTenperatura(hasierakoBeroa,tenperatura,kont) #Tenperatura eguneratu, oreka lortu baita.\n",
    "    print(\"\\nOREKA AURKITU DA, tenperatura berria: \",tenperatura,\". \",kont,\" iterazioa\")\n",
    "  return((best_fitness,best_solution))\n",
    "\n",
    "best_fitness, best_solution = suberaketaSimulatua (2,0.005,50,G,k,pisuakGuztira)\n",
    "print(\"BUKAERA: \",best_fitness,best_solution)"
   ]
  },
  {
   "cell_type": "markdown",
   "metadata": {
    "id": "5213VSLk4BXe"
   },
   "source": [
    "## Deabruaren algoritmoa\n",
    "\n",
    "Goian aurkeztu dugun Suberaketa simulatuaren algoritmoa mota bereko beste algoritmo batekin alderatzeko, azpian dagoen Deabruaren algoritmoa inplementatu dugu. Algoritmo honek bilaketa lokal arrunt bat aplikatzen du soluzio hobe bat aurkitzeko gai ez den arte. Une horretan, pazientzia batez baliatuz, soluzio txarragoak onartzeko gai da. Onartzen duen soluzio txar bakoitzak bere pazientzia gutxituko du eta soluzio onago bat lortzeko gai ostera, bere pazientzia berriz igo egingo da. Pazientzia agortzen zaioenean bukatuko da algoritmoaren exekuzioa. \n",
    "\n",
    "Deabruaren algoritmoak honako ezaugarriak ditu:\n",
    "\n",
    "* Pazientzia maximoa: soluzioak hobetzearen ondorioz pazientzia gehiegi ez handitzea du helburu bezala, bere pazientzia ez da inoiz pazientzia maximoa baino handiagoa izango. Problemaren arabera egokitu behar den parametro bat da.\n",
    "\n",
    "* Best first aukeraketa-irizpidea: ingurune handiekin ari garenez greedy irizpidea ez da egokiena errendimendu aldetik eta gainera, ez du dibertsifikazioan laguntzen. Best first aukeratu dugu, beraz.\n",
    "\n",
    "* Tabua: deabruen algoritmoek joera handia izan ohi dute soluzio txarrago bat onartu ondoren berriz ere aurreko soluzio onenera itzultzeko. Hori ekiditeko tabu bat ipini dugu (itzultzea debekatuta duen soluzioen zerrenda) eta erabiltzailearen esku utzi tabuaren tamaina zehaztea parametro bidez. \n",
    "\n",
    "**Algoritmoaren sasikodea** honakoa da:\n",
    "\n",
    "* Hasieratu soluzioak, tabua eta pazientzia.\n",
    "* BALDIN pazientzia > 0 EGIN:\n",
    "  * Kalkulatu soluzioaren ingurunea. \n",
    "  * Ingurunea barajatu (Best first irizpideari laguntzeko eta ausazkotasuna handitzeko).\n",
    "  * Aukeratu soluzio bat ingurunetik.\n",
    "  * BALDIN soluzioa_fitness > onena_fitness EGIN:\n",
    "    * Eguneratu soluzio onena.\n",
    "  * BESTELA:\n",
    "    * Soluzioa onartu.\n",
    "  * BUKATU BALDIN;\n",
    "  * Eguneratu pazientzia.\n",
    "  * Eguneratu tabua.\n",
    "* BUKATU EGIN;"
   ]
  },
  {
   "cell_type": "code",
   "execution_count": null,
   "metadata": {
    "id": "8d0IZmDw5fLZ"
   },
   "outputs": [],
   "source": [
    "#Soluzioa tabuan dagoen edo ez itzultzen du. Baldin badago TRUE, bestela FALSE.\n",
    "def tabuanDago (soluzioa,tabua):\n",
    "    return(any([(soluzioa == a).all() for a in tabua]))\n",
    "\n",
    "#Ingurunea, aurreko soluzioaren fitness-a, tabua, grafoa eta pisuakGuztira sartuta, hurrengo soluzioa eta haren fitness-a itzultzen ditu.\n",
    "def best_first (ingurunea,aurrekoa_fitness,tabua,G,pisuakGuztira):  \n",
    "  hauta = ingurunea[0] #Lehen soluzioa hautatu (okerragoak onartzeko), hasieraketa\n",
    "  aFit = modularitatea(G,hauta,pisuakGuztira)\n",
    "  for i in range(1,len(ingurunea)): #Sarrerakoa baino soluzio onago bat aurkitu arte, egin:\n",
    "    fitness = modularitatea(G,ingurunea[i],pisuakGuztira)\n",
    "    if fitness > aurrekoa_fitness and not tabuanDago(ingurunea[i],tabua): #Hobea bada eta ez badago tabuan, onartu.\n",
    "      return(fitness, ingurunea[i])\n",
    "    elif fitness > aFit and random.random() < 0.5 and not tabuanDago(ingurunea[i],tabua): #Lehenago iterazioetako onena baino hobea bada, gorde\n",
    "      aFit = fitness\n",
    "      hauta = ingurunea[i]\n",
    "  return(aFit,hauta) #Ez bada sarreran sartu dena baino soluzio hoberik aurkitu, inguruneko onena itzuli (greedy)\n",
    "\n",
    "#Deabruaren pazientzia eguneratu, sartutako dif diferentziaren arabera. \n",
    "def ahuldu (energia,pazientziaMax,dif): \n",
    "    energia=energia + dif\n",
    "    if (energia > pazientziaMax): \n",
    "        energia=pazientziaMax\n",
    "    return(energia)\n",
    "\n",
    "#Tabuan soluzioa soluzioa gehitu, tokirik ez badago lehendik zegoen zaharrena ezabatu. \n",
    "def eguneratuTabua (soluzioa,tabua,tabuTam):\n",
    "    if (len(tabua) == tabuTam):\n",
    "        tabua.pop(0)\n",
    "    tabua.append(soluzioa)\n",
    "    return(tabua)\n",
    "\n",
    "#SWAP INGURUNEA\n",
    "#Swap inguruneak soluzioko edozein digitu beste edozeinekin trukatuta sor\n",
    "#daitezkeen soluzio guztiak barne hartzen ditu.\n",
    "def swap_ingurunea(sol,G,k):\n",
    "  soluzioak = []\n",
    "  for i in range(len(sol)):\n",
    "    for j in range(i+1,len(sol)): #i-n dagoen elementua j-n jarri eta j-n dagoena, i-n\n",
    "      if (sol[i] == sol[j]):\n",
    "        continue\n",
    "      nes = sol.copy()\n",
    "      a = nes[i]\n",
    "      nes[i] = nes[j]\n",
    "      nes[j] = a\n",
    "    if (soluzioa_bideragarria_da(sol,k,G)):\n",
    "      soluzioak.append(nes)\n",
    "  return soluzioak\n",
    "\n",
    "#DEABRUA\n",
    "#Deabru honek energia egin duen hobekuntzaren\n",
    "#arabera irabazi edo okerkuntzaren arabera galtzen du. Soluzio bat beste bat baino 10 puntu hobea bada, 10 energia-puntu irabaziko\n",
    "#ditu deabruak. \n",
    "def deabrua (pazientziaMax,tabuTam,G,k,pisuakGuztira):\n",
    "    energia = pazientziaMax #Hasieran deabruak energia maximoa du.\n",
    "    tabua = [ ] #Hasieran tabua hutsa dago.\n",
    "    aurreko_sol=np.random.randint(1,k,len(G.nodes)) #Begizta barruan erabiltzeko aldagaiak\n",
    "    best_solution=aurreko_sol  #Soluzio onena ausazko hasierako soluzio bat da\n",
    "    best_fitness=modularitatea(G,best_solution,pisuakGuztira) #Helburu funtzioaren bidez ausazko soluzio horren egokitasuna neurtuko dugu\n",
    "    aurrekoa_fitness=best_fitness\n",
    "    kont=0\n",
    "    while (energia > 0):\n",
    "        ingurunea = swap_ingurunea (aurreko_sol,G,k) #Ingurunea kalkulatu\n",
    "        random.shuffle(ingurunea) #Barajatu, best first-i laguntzeko.\n",
    "        hautagaia_fitness, hautagaia = best_first(ingurunea,aurrekoa_fitness,tabua,G,pisuakGuztira) #Inguruneko soluzioen artetik aurrekoa hobetzen duen lehena hautatu\n",
    "        dif=hautagaia_fitness-aurrekoa_fitness #Soluzioen arteko diferentzia kalkulatu\n",
    "        if (hautagaia_fitness > best_fitness): #Soluzioa inoizko onena bada:\n",
    "            best_fitness=hautagaia_fitness #Eguneratu aldagaiak\n",
    "            best_solution=hautagaia\n",
    "            aurreko_sol=hautagaia\n",
    "            aurrekoa_fitness=hautagaia_fitness\n",
    "            print(\"Hobekuntza: \",best_fitness,\" Energia: \",energia)\n",
    "        else: #Bestela\n",
    "            aurreko_sol=hautagaia #Soluzio txarragoa onartu.\n",
    "            aurrekoa_fitness=hautagaia_fitness\n",
    "            print(\"Pausoa: \",hautagaia_fitness,\"(\",best_fitness,\")\",\" Energia: \",energia)\n",
    "        energia=ahuldu(energia,pazientziaMax,dif) #Energia eguneratu, handitu edo txikitu.\n",
    "        tabua = eguneratuTabua(aurreko_sol,tabua,tabuTam) #Tabura gehitu uneko soluzio-hautagaia.\n",
    "        kont+=1 \n",
    "        #sortuFotograma(aurreko_sol,kont,k,pos)\n",
    "    return(best_fitness,best_solution)\n",
    "\n",
    "print(deabrua(0.2,30,G,k,pisuakGuztira))"
   ]
  },
  {
   "cell_type": "markdown",
   "metadata": {
    "id": "A2HLomQQIo_C"
   },
   "source": [
    "## Inguruneak"
   ]
  },
  {
   "cell_type": "code",
   "execution_count": null,
   "metadata": {
    "id": "QXNHwIHLI5IR"
   },
   "outputs": [],
   "source": [
    "#Bilaketa lokalaren inguruneak eratzeko honako funtzioak erabili daitezke:\n",
    "#HAMMING INGURUNEA\n",
    "#Hamming inguruneak uneko soluzioari digitu bat aldatuta sor daitezkeen\n",
    "#soluzio guztiak barne hartzen ditu.\n",
    "def hamming(sol,G,k):\n",
    "  solutions = []\n",
    "  for i in range(len(sol)): #soluzioko elementu bakoitzerako\n",
    "    s = sol.copy()\n",
    "    s[i] = s[i]+1 #0tik 1era pasatu edo 1etik 0ra pasatu\n",
    "    if soluzioa_bideragarria_da(s.tolist(),G,k): #soluzioa bideragarria bada, ingurunean sartu\n",
    "      solutions.append(s)\n",
    "    s[i] = s[i] - 2\n",
    "    if (s[i] >= 0 and soluzioa_bideragarria_da(s.tolist(),G,k)):\n",
    "      solutions.append(s)\n",
    "  return solutions"
   ]
  },
  {
   "cell_type": "markdown",
   "metadata": {
    "id": "r7t9OG25Ispp"
   },
   "source": [
    "## Hautaketa irizpideak"
   ]
  },
  {
   "cell_type": "code",
   "execution_count": null,
   "metadata": {
    "id": "FM2TfaOqI5bZ"
   },
   "outputs": [],
   "source": [
    "def greedy (ingurunea,G,pisuakGuztira):\n",
    "  best_fitness = modularitatea(G,ingurunea[0],pisuakGuztira)\n",
    "  best_sol = ingurunea[0]\n",
    "  for i in range(1,len(ingurunea)):\n",
    "    fitness=modularitatea(G,ingurunea[i],pisuakGuztira)\n",
    "    if fitness > best_fitness:\n",
    "      best_fitness = fitness\n",
    "      best_sol = ingurunea[i]\n",
    "  return best_fitness, best_sol\n",
    "\n",
    "def best_first (ingurunea,aurrekoa_fitness,G,pisuakGuztira):\n",
    "  for i in ingurunea:\n",
    "    fitness = modularitatea(G,i,pisuakGuztira)\n",
    "    if fitness > aurrekoa_fitness:\n",
    "      return(fitness,i)\n",
    "  return(aurrekoa_fitness,ingurunea[0])"
   ]
  },
  {
   "cell_type": "markdown",
   "metadata": {
    "id": "O-roeX8eI2AJ"
   },
   "source": [
    "## Bilaketa Lokal arrunta"
   ]
  },
  {
   "cell_type": "markdown",
   "metadata": {
    "id": "ORMIj0zOQsuH"
   },
   "source": [
    "Bilaketa lokal arrunta exekutatzen duen programa bat sortu dugu azpian, ondorioak ateratzerako orduan sortu ditugun bilaketa lokal hedatuko algoritmoen emaitzekin alderatzeko. "
   ]
  },
  {
   "cell_type": "code",
   "execution_count": null,
   "metadata": {
    "id": "75d6QfsfITxv"
   },
   "outputs": [],
   "source": [
    "def bilaketaLokala (it_max,G,pisuakGuztira,k):\n",
    "  it_kop = 0\n",
    "  best_solution = np.random.randint(1,k,len(G.nodes))\n",
    "  best_fitness = modularitatea(G,best_solution,pisuakGuztira)\n",
    "  print(\"Hasierako fitnessa:\",best_fitness)\n",
    "  while (it_kop < it_max):\n",
    "    ingurunea = hamming(best_solution,k,G)\n",
    "    hautagaia_fitness, hautagaia = best_first (ingurunea,best_fitness,G,pisuakGuztira)\n",
    "    if (hautagaia_fitness > best_fitness):\n",
    "      best_fitness=hautagaia_fitness\n",
    "      best_solution=hautagaia\n",
    "      print(\"Hobekuntza: \",best_fitness)\n",
    "    else:\n",
    "      print(\"Bukaera: ez da soluzio hoberik topatu.\")\n",
    "      return(best_fitness,best_solution)\n",
    "  print(\"Bukaera: iterazio kopuru maximora heldu naiz.\")\n",
    "  return (best_fitness,best_solution)\n",
    "\n",
    "best_fitness, best_solution = bilaketaLokala(1000,G,pisuakGuztira,k)\n",
    "print(\"Soluzio onena: \", best_fitness,best_solution)"
   ]
  },
  {
   "cell_type": "markdown",
   "metadata": {
    "id": "dNv_dLmNdjfk"
   },
   "source": [
    "# Algoritmo Genetikoa\n"
   ]
  },
  {
   "cell_type": "markdown",
   "metadata": {
    "id": "ah_RfR2edoz6"
   },
   "source": [
    "CDP problema ebazteko baita ere poblazioetan oinarritutako algoritmoak implementatu ditugu. Hasteko oinarrizko algoritmo genetiko baten bidez problema ebazten saiatu gara. Algoritmo genetikoaek egitura finko bat jarraitzen hautaketa, gurutzaketa, mutazioa eta eguneraketa. Hortik habiatuta fase bakoitzak era askotan inplementa daitezke metodo sinpleenetatik konplexuenera. Horregaitik, guk uste dugunez algoritmoaren funtzionamendua ondo ulertzeko nahian fase desberdinen diseinua intuizioa erabili dugu eta ez teknika oso konplexuak. Diseinatutako teknikak ondokoak izan dira. \n",
    "\n",
    "Hasteko, lehen populazioa sortzeko auzasko bektoreekin hasieratzen dugu. Ondoren, hautaketa egiteko populazioaren %50 hoberenak hartzen ditugu. Hauekin gurutzaketa eta mutazioa burutzen ditugu. Gurutzaketa egiteko bi soluzio desberdin hartzen ditugu eta ondorengo gurutzaketa aplikatzen dugu bi soluzio berri sortzeko.\n",
    "Soluzioak 4 zatitan banatzen ditugu eta laurden horien konbinaketatik sortaraziz soluzio berriak. Lehen soluzio berria honako zatiak konkatenatzen ditu: 1.soluzioaren 3.laurdena, 2.soluzioaren 4.laurdena, 2.soluzioaren 2.laurdena eta 1.soluzioaren 1.laurdena. Era berean bigarren soluzio berria lortzeko lehenengo soluzio berria egiteko erabili ez ditugun laurden zatiak orden berean baina soluzio kontrakoarenak, hau da, 2.soluzioaren 3.laurdena, 1.soluzioaren 4.laurdena, 1.soluzioaren 2.laurdena eta 2.soluzioaren 1.laurdena.\n",
    "Gurutzaketa egin ondoren, mutazioa aplikatzen diegu gurutzaketa prozesutik lortutako soluzioei. Mutazioa gertatzeko 0.9-eko mutazio tasa izanda, soluzioaren posizio bat ausaz aukeratzen dugu eta beste balio bat jarriz, hau da, beste partizio batean. Azkenik uneko populazioa, gurutzaketan gurasoak izan direnak, eta mutazio prozesuaren ondoren lortutako emaitza guztien artetik hoberenak hartzen ditugu, finkatutako populazio tamaina adina, eta populazioa eguneratzen dugu."
   ]
  },
  {
   "cell_type": "markdown",
   "metadata": {
    "id": "frK3uuC7zj8l"
   },
   "source": [
    "\n",
    "**Algoritmoaren sasikodea** honakoa da:\n",
    "\n",
    "* Mutazio_tasa hasieratu\n",
    "* Hasierako populazioa hasieratu, soluzio guztiak bideragarriak direla zihurtatuz\n",
    "* Iterazio kopuru maximora ailegatu arte EGIN:\n",
    "  * Uneko populazioaren hoberenak lortu, hautaketa funtzioaren biidez\n",
    "  * Populazioaren hoberenekin gurutzaketa egin, gurutzaketa funtzioa erabiliz\n",
    "  * Mutazio tasaren arabera mutazioa aplikatu gurutzatutako soluzio multzoetara\n",
    "  * Iterazio hasieran zeuden soluzioak(gurasoak) eta mutazio prozesuaren ondoren(gurutzaketa + mutazioa) lortutako soluzio guztiak multzokatu\n",
    "  * Soluzio guzti horietatik hoberenak aukeratu populazio tamaina adina, eguneraketa fiuntzioari deituz\n",
    "* Bueltatu soluzio hoberena eta modularitatea"
   ]
  },
  {
   "cell_type": "code",
   "execution_count": null,
   "metadata": {
    "id": "bcpaZqGuu2b9"
   },
   "outputs": [],
   "source": [
    "# Funtzio honek populazioaren %50 hoberenak bueltatzen ditu\n",
    "# populazioa parametroa soluzioen lista bat den\n",
    "# G parametroa problemaren grafoa da\n",
    "# pisuakGuztira parametroa grafoko ertz guztien pisuen balioen gehiketa adierazten du\n",
    "def hautaketa(populazioa,G,pisuakGuztira): # Populazioaren %50 hoberenak hautatuko ditugu\n",
    "  size = len(populazioa)\n",
    "  populazioa.sort(reverse=True, key= lambda x: modularitatea(soluzioa=x,G=G,pisuakGuztira=pisuakGuztira)) \n",
    "  hoberenak = populazioa[0:int(size/2)]\n",
    "  return hoberenak #bueltatu %50\n",
    "\n",
    "# Funtzio honek bi soluzioen artean gurutzaketa egiten du soluzio bakoitza \n",
    "# 4 zatitan banatuz eta zati horiek konbinatu bi soluzio berri lortzeko\n",
    "# 1 soluzio berria: 1.soluzioaren 3.laurdena, 2.soluzioaren 4.laurdena, 2.soluzioaren 2.laurdena eta 1.soluzioaren 1.laurdena\n",
    "# 2 soluzio berria: 2.soluzioaren 3.laurdena, 1.soluzioaren 4.laurdena, 1.soluzioaren 2.laurdena eta 2.soluzioaren 1.laurdena\n",
    "def gurutzatu(sol1,sol2):\n",
    "  n = len(sol1)   \n",
    "  c1 = int(n*0.25) # 1. laurdena\n",
    "  c2 = int(n*0.5)  # 2. laurdena\n",
    "  c3 = int(n*0.75) # 3. laurdena\n",
    "\n",
    "  # sol1 4 zatitan banatu\n",
    "  s1_0 = sol1[0:c1]\n",
    "  s1_1 = sol1[c1:c2]\n",
    "  s1_2 = sol1[c2:c3]\n",
    "  s1_3 = sol1[c3:n]\n",
    "  \n",
    "  # sol2 4 zatitan banatu\n",
    "  s2_0 = sol2[0:c1]\n",
    "  s2_1 = sol2[c1:c2]\n",
    "  s2_2 = sol2[c2:c3]\n",
    "  s2_3 = sol2[c3:n]\n",
    "  \n",
    "  new_sol1 = []\n",
    "  # s1_2 s2_3 s2_1 s1_0\n",
    "  new_sol1.extend(s1_2)\n",
    "  new_sol1.extend(s2_3)\n",
    "  new_sol1.extend(s2_1)\n",
    "  new_sol1.extend(s1_0)\n",
    "  new_sol1 = np.asarray(new_sol1, dtype= int)\n",
    "\n",
    "  new_sol2 = []\n",
    "  # s2_2 s1_3 s1_1 s2_0\n",
    "  new_sol2.extend(s2_2)\n",
    "  new_sol2.extend(s1_3)\n",
    "  new_sol2.extend(s1_1)\n",
    "  new_sol2.extend(s2_0)  \n",
    "  new_sol2 = np.asarray(new_sol2, dtype= int)\n",
    "\n",
    "  return new_sol1, new_sol2\n",
    "\n",
    "# Funtzio honek populazio baten soluzio guztien arteko gurutzaketa egiten du, beti ere soluzio berria bideragarria bada\n",
    "# populazioa parametroa soluzioen lista bat den\n",
    "# G parametroa problemaren grafoa da\n",
    "# pisuakGuztira parametroa grafoko ertz guztien pisuen balioen gehiketa adierazten du\n",
    "def gurutzaketa(populazioa,k,G): # Populazioaren gurutzaketa\n",
    "  new_populazioa = []\n",
    "  for i, sol1 in enumerate(populazioa):\n",
    "    sol1 = np.asarray(sol1)\n",
    "    for sol2 in populazioa[i+1:]:\n",
    "      sol2 = np.asarray(sol2)\n",
    "      new_sol1, new_sol2 = gurutzatu(sol1,sol2)\n",
    "      if soluzioa_bideragarria_da(new_sol1,k,G): #ZIURTATU gurutzaketa bideragarria dela\n",
    "        new_populazioa.append(new_sol1)\n",
    "      if soluzioa_bideragarria_da(new_sol2,k,G): #ZIURTATU gurutzaketa bideragarria dela\n",
    "        new_populazioa.append(new_sol2)\n",
    "  \n",
    "  return new_populazioa \n",
    "\n",
    "# Funtzio honek soluzio bati mutazioa aplikatzen dio, mutazioa bideragarria bada soluzio berria bueltatuko du bestela soluzioa berdin\n",
    "# sol parametroa mutazioa aplikatu nahi diogun soluzioa\n",
    "# k parametroa komunitate kopurua da\n",
    "# G parametroa problemaren grafoa da\n",
    "def mutazioa(sol,k,G):  # Soluzioaren ausazko posizio batean ausazko balioa esleitu\n",
    "  n = len(sol)\n",
    "  new_sol = sol\n",
    "  i = random.randint(0,n-1) # soluzioaren posizioa ausaz\n",
    "  a = random.randint(1,k) # Komunitate balioa ausaz\n",
    "  komunitate = new_sol[i]\n",
    "  while komunitate == a: # ZIURTATU komunitate desberdinera aldatu dugula \n",
    "    a = random.randint(1,k)\n",
    "  new_sol[i] = a\n",
    "  if soluzioa_bideragarria_da(new_sol,k,G): # ZIURTATU mutazioa bideragarria dela\n",
    "    return new_sol                            \n",
    "  return sol                                # bestela mutazioa ez egin eta soluzioa berdin bueltatu\n",
    "\n",
    "# Funtzio honek soluzio multzo baten soluzio hoberenak bueltatzen ditu, populazio tamaina adina soluzio bueltztuko ditu\n",
    "# soluzioa_multzoa parametroa soluzio multzoa da hoberenak lortu nahi dituguak\n",
    "# populazio_tamaina parametroa lortu nahi ditugun soluzio hoberenen kantitatea, hasierako populazio tamaina normalean\n",
    "# G parametroa problemaren grafoa da\n",
    "# pisuakGuztira parametroa grafoko ertz guztien pisuen balioen gehiketa adierazten du\n",
    "def eguneraketa(soluzioa_multzoa,populazio_tamaina,G,pisuakGuztira): # Hoberenak eguneratzeko\n",
    "  soluzioa_multzoa.sort(reverse=True, key= lambda x: modularitatea(soluzioa=x,G=G,pisuakGuztira=pisuakGuztira)) \n",
    "  hoberenak = soluzioa_multzoa[0:populazio_tamaina]\n",
    "  return hoberenak"
   ]
  },
  {
   "cell_type": "code",
   "execution_count": null,
   "metadata": {
    "id": "A8zu3Kvjoa_t"
   },
   "outputs": [],
   "source": [
    "# populazio_tamaina parametroa populazioaren tamaina adierazten du\n",
    "# it_max parametroa algoritmoak egin behar dituen iterazioen kopurua adierazten du\n",
    "# G parametroa problemaren grafoa da\n",
    "# pisuakGuztira parametroa grafoko ertz guztien pisuen balioen gehiketa adierazten du\n",
    "# k parametroa soluzioak zenbat komunitatetan banatuta egotea nahi dugun adierazten du\n",
    "def algoritmo_genetikoa_basikoa(populazio_tamaina, it_max,G,pisuakGuztira,k):\n",
    "  mutazio_tasa = 0.9    \n",
    "  kont = 0\n",
    "  pop_unekoa = []\n",
    "  # Populazioa sortu 'populazio_tamaina'-koa\n",
    "  while kont != populazio_tamaina:\n",
    "    sol = np.random.randint(1,k,len(G.nodes))\n",
    "    if soluzioa_bideragarria_da(sol,k,G): # ZIURTATU soluzioa bideragarria dela\n",
    "      pop_unekoa.append(sol)\n",
    "    kont += 1\n",
    "  \n",
    "  # LOOP (it_max)\n",
    "  for iterazioa in range(it_max):\n",
    "    pop_hoberenak = hautaketa(pop_unekoa,G,pisuakGuztira) # HAUTAKETA\n",
    "    pop_gurutzatuta = gurutzaketa(pop_hoberenak,k,G) # GURUTZAKETA\n",
    "    for i in range(len(pop_gurutzatuta)): # MUTAZIOA\n",
    "      if random.random() <= mutazio_tasa:\n",
    "        pop_gurutzatuta[i] = mutazioa(pop_gurutzatuta[i],k,G)\n",
    "    pop_gurutzatuta.extend(pop_hoberenak) # batu gurasoak eta mutatu ondoreneko soluzio guztiak\n",
    "    pop_unekoa = eguneraketa(pop_gurutzatuta,populazio_tamaina,G,pisuakGuztira) # EGUNERAKETA\n",
    "\n",
    "    print(str(iterazioa+1)+ \". iterazioaren hoberena: \", modularitatea(G,pop_unekoa[0],pisuakGuztira),\"\\n\")\n",
    "    \n",
    "  pop_unekoa.sort(reverse=True, key= lambda x: modularitatea(soluzioa=x,G=G,pisuakGuztira=pisuakGuztira)) # populazioa ordenatu lehenengoa hoberena izateko\n",
    "  \n",
    "  best_sol = pop_unekoa[0] # algoritmo genetikoak lortutako soluziorik hoberena\n",
    "  best_fitness = modularitatea(G, best_sol, pisuakGuztira)\n",
    "\n",
    "  return best_fitness, best_sol "
   ]
  },
  {
   "cell_type": "code",
   "execution_count": null,
   "metadata": {
    "id": "BaJKUz9_uv4D"
   },
   "outputs": [],
   "source": [
    "best_fitness, best_solution = algoritmo_genetikoa_basikoa(100,100,G,pisuakGuztira,k)\n",
    "print(\"Algoritmo genetikoaren soluziorik hoberena: \" + str(best_fitness))\n",
    "print(best_solution)"
   ]
  },
  {
   "cell_type": "markdown",
   "metadata": {
    "id": "0wiGC3cXokZc"
   },
   "source": [
    "# UMDA"
   ]
  },
  {
   "cell_type": "markdown",
   "metadata": {
    "id": "Y5WgR09RLxRJ"
   },
   "source": [
    "Problema ebazteko EDA bat probatu nahi genuen, zer nolako emaitzak ematen dituen ikusteko. Inplementatzeko sinpleena UMDA denez, hori aukeratu genuen. Orain erabili ditugun gehienak baino algoritmo mota sofistikatuagoa denez, soluzio onak ematea espero genuen.\n",
    "\n",
    "Hemen, iterazio bakoitzean pop_size tamainako populazio bat dugu. Dugun distribuzio modeloa laginduz (hasieran modeloa uniformea da) hainbat soluzio berri sortzen ditugu. Populazioa eta soluzio berriak batzen ditugu eta hortik, populazio berri bat sortzeko, pop_size soluzio hoberenak aukeratzen ditugu. Populazio berria edukita, soluzioen atributuen frekuentziatik distribuzio modelo berri bat kalkulatzen dugu eta prozesua berriz hasten dugu. Hau iterazio maximo batera heldu arte errepikatzen dugu.  \n"
   ]
  },
  {
   "cell_type": "markdown",
   "metadata": {
    "id": "ML4UdIrtXaY4"
   },
   "source": [
    "\n",
    "Azpiko **algoritmoaren sasikodea** honakoa da:\n",
    "\n",
    "* Banaketa modeloa hasieratu (banaketa uniformea)\n",
    "* Banaketa modeloa laginduz pop_size tamainako populazioa eraiki\n",
    "* Iterazio kopuru maximora ailegatu arte EGIN:\n",
    "    * Pop_size/2 soluzio berri sortu banaketa modeloa laginduz\n",
    "    * Populazioa eta soluzio berrien arteko pop_size soluzio hoberenekin populazio berria sortu\n",
    "    * Banaketa modeloa eguneratu populazio berriko soluzioekin\n",
    "* Populazioko soluzio hoberena bueltatu"
   ]
  },
  {
   "cell_type": "code",
   "execution_count": null,
   "metadata": {
    "id": "5fie6v2UonAT"
   },
   "outputs": [],
   "source": [
    "# Funtzio honek banaketa modelo bat lagintzen du soluzio berri bat sortzeko\n",
    "# model parametroak soluzioa sortzeko laginduko den modeloa adierazten du (kasu honetan matrize bat)\n",
    "# size parametroak soluzioaren tamaina adierazten du\n",
    "def createSolution(model,size):\n",
    "  sol_berria = [-1]*size # soluzioaren lista hasieratu\n",
    "  for a,i in enumerate(model):\n",
    "    p = np.random.uniform(0,1) # ausaz 0 eta 1 tarteko zenbaki bat sortu\n",
    "    geh = 0 # gehiketa egiten joateko aldagaia\n",
    "    for ind,j in enumerate(i):\n",
    "      geh += j # geh aldagaiari orain arteko baloreak gehitu\n",
    "      if p <= geh: # orain arteko baloreak ausazko zenbakia baino handiagoa edo berdina bada\n",
    "        sol_berria[a] = ind + 1 # soluzioko a. elementuan tokatu zaion balioa jarri\n",
    "        break\n",
    "  return sol_berria # soluzio berria bueltatu\n",
    "\n",
    "# Funtzio honek bi lista hartzen ditu parametro bezala eta soluzioak lista baloreak listaren arabera ordenatzen du\n",
    "# soluzioak parametroak ordenatu nahi dugun lista adierazten du\n",
    "# baloreak parametroak \"soluzioak\" lista ordenatzeko kontuan eduki behar diren balioak dituen lista adierazten du\n",
    "def sortByModularity(baloreak,soluzioak):\n",
    "  return [sol for _, sol in sorted(zip(baloreak, soluzioak))] #soluzioak lista baloreak listaren arabera ordenatu (soluzioak modularitateen arabera ordenatu)"
   ]
  },
  {
   "cell_type": "code",
   "execution_count": null,
   "metadata": {
    "id": "F7TytNkzL0F3"
   },
   "outputs": [],
   "source": [
    "# G parametroa problemaren grafoa da\n",
    "# pisuakGuztira parametroa grafoko ertz guztien pisuen balioen gehiketa adierazten du\n",
    "# k parametroa soluzioak zenbat komunitatetan banatuta egotea nahi dugun adierazten du\n",
    "# max_iter parametroa algoritmoak egin behar dituen iterazioen kopurua adierazten du\n",
    "# pop_size parametroa populazioaren tamaina adierazten du\n",
    "def EDA(G,pisuakGuztira,k,max_iter=50, pop_size=100):\n",
    "  k = k-1 #komunitate bat gutxi kolaboratu duten autoreentzat erreserbatu dugu, beraz, bakarrik k-1 komunitate esleitu beharko ditugu hemen\n",
    "  iter = 0 #iterazio kopurua hasieratu\n",
    "  pop_size = pop_size #populazio tamaina hasieratu\n",
    "  population = [] \n",
    "  avg = [] #batazbesteko modularitateen lista hasieratu\n",
    "  hoberenak = [] #modularitate hobeen lista hasieratu\n",
    "  prob_model = len(G)*[[1/k]*k] #hasierako probabilitate modeloa uniformea da. k komunitate daudenez, horietako bakoitza izateko 1/k probabilitatea dago\n",
    "  for i in range(pop_size): #lehenengo populazioa sortu\n",
    "      population.append(createSolution(prob_model,len(G))) #modeloa lagindu eta populazioan sartu\n",
    "\n",
    "  while iter < max_iter: #iterazio maximora ailegatu ez den bitartean\n",
    "    iter+=1\n",
    "    print(f'{iter}/{max_iter}') #oraingo iterazioa idatzi\n",
    "\n",
    "    nppop = np.array(population)\n",
    "    s = len(nppop)\n",
    "    for i,column in enumerate(nppop.T): #aldi berean populazioko soluzio guztiak elementuz-elementu zeharkatu\n",
    "      vec = [0]*k\n",
    "      for element in column: #komunitate bakoitza zenbat aldiz agertzen den kontatu\n",
    "        vec[element-1] += 1/s #bektore honetan zenbatuko da komunitate bakoitza i. nodoari zenbat aldiz esleitu zaion populazioko soluzioetan\n",
    "      prob_model[i] = vec #kalkulatutako modelo berria normalizatu eta probabilitate modeloa eguneratu\n",
    "\n",
    "    soluzio_berriak = []\n",
    "    for i in range(int(pop_size/2)): #pop_size/2 soluzio berri sortu\n",
    "      sol = createSolution(prob_model,len(G)) #soluzio bat sortu\n",
    "      soluzio_berriak.append(sol) #soluzio berrietan gorde\n",
    "\n",
    "    extended_population = population.copy()\n",
    "    extended_population.extend(soluzio_berriak) #soluzio berriak eta populazioa konbinatu\n",
    "    \n",
    "    pop_berrirako = []\n",
    "    for i in range(len(extended_population)): #sortutako populazio handiagoko soluzio guztietarako\n",
    "      pop_berrirako.append(modularitatea(G,np.array(extended_population[i]),pisuakGuztira)) #beraien modularitatea kalkulatu\n",
    "    population = sortByModularity(pop_berrirako,extended_population)[int(pop_size/2):] #soluzio berrien eta populazioaren konbinaketaren arteko pop_size soluzio hoberenak populaziora pasatu\n",
    "\n",
    "    ### Beheko kodea ez da beharrezkoa algoritmoaren ibilbidea irudikatu nahi ez bada\n",
    "    # hoberena = []\n",
    "    # fit_hoberena = float(\"-inf\")\n",
    "    # av = 0\n",
    "    # for i in population: #iterazio bakoitzean soluzio hoberenaren modularitatea eta batazbesteko modularitatea kalkulatu grafikoa egiteko\n",
    "    #   m = modularitatea(G,np.array(i),pisuakGuztira)\n",
    "    #   av += m\n",
    "    #   if m > fit_hoberena: #oraingo soluzioa orain arteko maximoa baino moduluaritate handiagoa badu, maximoa oraingoa da\n",
    "    #     fit_hoberena = m\n",
    "    #     hoberena = i\n",
    "    # hoberenak.append(fit_hoberena) #modularitate hobeen lista\n",
    "    # avg.append(av/len(population)) #populazioko batazbesteko modularitatearen lista\n",
    "  hoberena = population[-1]\n",
    "  return hoberena#, hoberenak, avg\n",
    "\n",
    "best_solution = EDA(G,pisuakGuztira,k,300,100)\n",
    "print(best_solution)\n",
    "print(modularitatea(G,np.array(best_solution),pisuakGuztira))\n",
    "# plt.plot(list(range(300)),best,avg)\n",
    "# plt.show()"
   ]
  },
  {
   "cell_type": "markdown",
   "metadata": {
    "id": "whTIAW-kBhpS"
   },
   "source": [
    "# Azken emaitza"
   ]
  },
  {
   "cell_type": "markdown",
   "metadata": {
    "id": "Y-1idmsDE-PH"
   },
   "source": [
    "Azpiko kodearen bidez goiko algoritmoekin sortutako soluzioak soluzio \"erreal\" bihurtu daitezke, hau da, partizio edo komunitate bakoitzean zein autore kokatu den jakin. "
   ]
  },
  {
   "cell_type": "code",
   "execution_count": null,
   "metadata": {
    "id": "7-1Iun4ABmCi"
   },
   "outputs": [],
   "source": [
    "#Soluzio bat, kodeak hiztegia eta G grafo orijinala sartuta, komunitateak eta haien kideak inprimatzen ditu.\n",
    "def eman_azken_emaitza (soluzioa,kodeak,G):\n",
    "  partizioak = [ ] #Partizioen nodoak gordeko dituen zerrenda\n",
    "  for i in range(max(soluzioa)+1): #Partizioak adieraziko dituzten zerrenda habiatuak\n",
    "    partizioak.append([])\n",
    "  for j in G.nodes: #Nodo guztietan egin:\n",
    "    ind = kodeak[j] #Eskuartu haren indizea, aurreprozesaketan esleitua.\n",
    "    if (ind >= len(soluzioa)): #Indize hori soluzioaren tamaina baino handiagoa bada\n",
    "      partizioak[0].append(j) #Partizio nulura gehitu\n",
    "    else: #Bestela dagokion partizioa, soluziokoaren araberakoa.\n",
    "      partizioak[soluzioa[ind]].append(j)\n",
    "  print(\"------------AUTOREEEN KOMUNITATEAK------------\\n\")\n",
    "  for i in range(len(partizioak)): #Inprimaketak\n",
    "      print(\"\\n\",i,\". Komunitatea: \",len(partizioak[i]),\" kidez osatuta.\\n\")\n",
    "      for j in range(len(partizioak[i])):\n",
    "         print(j+1,\" - \",partizioak[i][j])   \n",
    "  return(partizioak)\n",
    "\n",
    "partizioak = eman_azken_emaitza(soluzioa,kodeak,GO)"
   ]
  },
  {
   "cell_type": "markdown",
   "metadata": {
    "id": "w4jFZEsiMDOi"
   },
   "source": [
    "# Ondorioak"
   ]
  },
  {
   "cell_type": "markdown",
   "metadata": {
    "id": "VKkQNLwJRvRC"
   },
   "source": [
    "Hurrengo entregarako utzi ditugu, exekuzioei buruz informazio gehiago dugunerako. "
   ]
  }
 ],
 "metadata": {
  "accelerator": "GPU",
  "colab": {
   "provenance": [],
   "toc_visible": true
  },
  "gpuClass": "standard",
  "kernelspec": {
   "display_name": "Python 3 (ipykernel)",
   "language": "python",
   "name": "python3"
  },
  "language_info": {
   "codemirror_mode": {
    "name": "ipython",
    "version": 3
   },
   "file_extension": ".py",
   "mimetype": "text/x-python",
   "name": "python",
   "nbconvert_exporter": "python",
   "pygments_lexer": "ipython3",
   "version": "3.10.6"
  }
 },
 "nbformat": 4,
 "nbformat_minor": 1
}
